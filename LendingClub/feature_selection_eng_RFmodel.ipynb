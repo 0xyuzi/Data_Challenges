{
 "cells": [
  {
   "cell_type": "markdown",
   "metadata": {},
   "source": [
    "# Feature Selection and Eng for Logistic Regression Model"
   ]
  },
  {
   "cell_type": "code",
   "execution_count": 50,
   "metadata": {},
   "outputs": [],
   "source": [
    "import pandas as pd\n",
    "import numpy as np\n",
    "import seaborn as sns\n",
    "import matplotlib.pylab as plt\n",
    "from sklearn import preprocessing, pipeline, metrics, model_selection\n",
    "from sklearn.model_selection import GridSearchCV\n",
    "pd.options.display.max_columns = 999\n",
    "pd.options.display.max_colwidth = 100\n",
    "sns.set_style(\"white\")\n",
    "%matplotlib inline"
   ]
  },
  {
   "cell_type": "markdown",
   "metadata": {},
   "source": [
    "### concat table_a (2011) and table_b (2013)"
   ]
  },
  {
   "cell_type": "code",
   "execution_count": 2,
   "metadata": {},
   "outputs": [
    {
     "name": "stderr",
     "output_type": "stream",
     "text": [
      "Skipping line 3357: unexpected end of data\n"
     ]
    }
   ],
   "source": [
    "a_df = pd.read_csv(\"LoanStats3a_securev1.csv\",engine=\"python\",error_bad_lines=False,header=1)\n",
    "b_df = pd.read_csv(\"LoanStats3b_securev1.csv\",engine=\"python\",error_bad_lines=False,header=1)\n",
    "a_df['table'] = 'a'\n",
    "b_df['table'] = 'b'\n",
    "full_concat_df = pd.concat([a_df, b_df])"
   ]
  },
  {
   "cell_type": "markdown",
   "metadata": {},
   "source": [
    "### Features not selected if fully missing in table_a and table_b"
   ]
  },
  {
   "cell_type": "markdown",
   "metadata": {},
   "source": [
    "all missing val faetures in combined table_a and table_b"
   ]
  },
  {
   "cell_type": "code",
   "execution_count": 3,
   "metadata": {},
   "outputs": [],
   "source": [
    "concat_full_null_list = ['member_id',  'next_pymnt_d',  'annual_inc_joint',  'dti_joint',  'verification_status_joint', \n",
    "                           'open_acc_6m',  'open_act_il',  'open_il_12m',  'open_il_24m',  'mths_since_rcnt_il',  \n",
    "                           'total_bal_il',  'il_util',  'open_rv_12m',  'open_rv_24m',  'max_bal_bc',  'all_util',  'inq_fi',  \n",
    "                           'total_cu_tl',  'inq_last_12m',  'revol_bal_joint',  'sec_app_fico_range_low',  'sec_app_fico_range_high',  \n",
    "                           'sec_app_earliest_cr_line',  'sec_app_inq_last_6mths',  'sec_app_mort_acc',  'sec_app_open_acc',  'sec_app_revol_util', \n",
    "                           'sec_app_open_act_il',  'sec_app_num_rev_accts',  'sec_app_chargeoff_within_12_mths',  'sec_app_collections_12_mths_ex_med',  \n",
    "                           'sec_app_mths_since_last_major_derog']"
   ]
  },
  {
   "cell_type": "markdown",
   "metadata": {},
   "source": [
    "all missing val features in table_a, i.e. year 2011 data"
   ]
  },
  {
   "cell_type": "code",
   "execution_count": 4,
   "metadata": {},
   "outputs": [],
   "source": [
    "a_full_null_list = ['tot_coll_amt',  'tot_cur_bal',  'total_rev_hi_lim',  'acc_open_past_24mths',  'avg_cur_bal',  'mo_sin_old_rev_tl_op',  \n",
    "                    'mo_sin_rcnt_rev_tl_op',  'mo_sin_rcnt_tl',  'mort_acc',  'num_accts_ever_120_pd',  'num_actv_bc_tl',  'num_actv_rev_tl',  \n",
    "                    'num_bc_sats',  'num_bc_tl',  'num_il_tl',  'num_op_rev_tl',  'num_rev_accts',  'num_rev_tl_bal_gt_0',  'num_sats',  'num_tl_30dpd', \n",
    "                    'num_tl_90g_dpd_24m',  'num_tl_op_past_12m',  'pct_tl_nvr_dlq',  'tot_hi_cred_lim',  'total_bal_ex_mort',  \n",
    "                    'total_bc_limit',  'total_il_high_credit_limit']"
   ]
  },
  {
   "cell_type": "markdown",
   "metadata": {},
   "source": [
    "all missing val feature in table_b, year 2013 data"
   ]
  },
  {
   "cell_type": "code",
   "execution_count": 5,
   "metadata": {},
   "outputs": [],
   "source": [
    "b_full_null_list = ['revol_util']"
   ]
  },
  {
   "cell_type": "markdown",
   "metadata": {},
   "source": [
    "__features left after remove all those columns above__"
   ]
  },
  {
   "cell_type": "code",
   "execution_count": 6,
   "metadata": {},
   "outputs": [],
   "source": [
    "concat_selected_column_list  = list(set(full_concat_df.columns) - set(concat_full_null_list + a_full_null_list + b_full_null_list))"
   ]
  },
  {
   "cell_type": "markdown",
   "metadata": {},
   "source": [
    "### Application info \n",
    "Those features are possibly required when applying for a loan"
   ]
  },
  {
   "cell_type": "code",
   "execution_count": 9,
   "metadata": {},
   "outputs": [],
   "source": [
    "application_features = ['id','addr_state', 'annual_inc','annual_inc_joint','application_type', 'desc', 'dti', 'dti_joint', 'earliest_cr_line', \n",
    "'emp_title', 'emp_length', 'emp_title','fico_range_high', 'fico_range_low','home_ownership', 'loan_amnt', 'msa', \n",
    "'pub_rec_bankruptcies', 'pub_rec', 'purpose', 'tax_liens','term', 'title', 'verification_status',\n",
    "'verified_status_joint','zip_code', 'sec_app_fico_range_high' , 'sec_app_fico_range_low']"
   ]
  },
  {
   "cell_type": "markdown",
   "metadata": {},
   "source": [
    "__filtering the features of all null vals__"
   ]
  },
  {
   "cell_type": "code",
   "execution_count": 11,
   "metadata": {},
   "outputs": [],
   "source": [
    "filtered_apply_features = list(set(concat_selected_column_list).intersection(set(application_features)))"
   ]
  },
  {
   "cell_type": "code",
   "execution_count": 12,
   "metadata": {},
   "outputs": [],
   "source": [
    "filtered_apply_features = filtered_apply_features + ['issue_d','table']"
   ]
  },
  {
   "cell_type": "markdown",
   "metadata": {},
   "source": [
    "__features info__"
   ]
  },
  {
   "cell_type": "markdown",
   "metadata": {},
   "source": [
    "Use code below to view the features's missing value info\n",
    "```python\n",
    "full_concat_df[filtered_apply_features].info()\n",
    "\n",
    "full_concat_df[filtered_apply_features].isnull().sum()\n",
    "```"
   ]
  },
  {
   "cell_type": "markdown",
   "metadata": {},
   "source": [
    "- 'desc' has the higheset num of missing vals 3726\n",
    "- 'emp_title' has 345 missing vals"
   ]
  },
  {
   "cell_type": "markdown",
   "metadata": {},
   "source": [
    "## Data Values Check"
   ]
  },
  {
   "cell_type": "markdown",
   "metadata": {},
   "source": [
    "Code before for feature sanity check, \n",
    "\n",
    "```python\n",
    "full_concat_df['pub_rec'].value_counts()\n",
    "sns.barplot(x='pub_rec', y = 'id', data=full_concat_df, hue='loan_status', estimator=np.ma.count)\n",
    "full_concat_df['fico_range_high'].value_counts()\n",
    "full_concat_df['fico_range_low'].value_counts()\n",
    "sns.scatterplot(x='fico_range_low', y='fico_range_high', data=full_concat_df,hue='loan_status')\n",
    "full_concat_df['loan_amnt'].value_counts()\n",
    "full_concat_df['annual_inc'].value_counts()\n",
    "full_concat_df['verification_status'].value_counts()\n",
    "full_concat_df['issue_d'].value_counts()\n",
    "full_concat_df['earliest_cr_line'].value_counts()\n",
    "full_concat_df['home_ownership'].value_counts()\n",
    "full_concat_df['title'].value_counts()\n",
    "full_concat_df['purpose'].value_counts()\n",
    "full_concat_df['dti'].value_counts()\n",
    "full_concat_df['term'].value_counts()\n",
    "full_concat_df['purpose'].value_counts()\n",
    "full_concat_df['application_type'].value_counts()\n",
    "full_concat_df['pub_rec_bankruptcies'].value_counts()\n",
    "full_concat_df['zip_code'].value_counts()\n",
    "full_concat_df['tax_liens'].value_counts()\n",
    "full_concat_df['emp_title'].value_counts()\n",
    "full_concat_df['desc'].value_counts()\n",
    "```"
   ]
  },
  {
   "cell_type": "markdown",
   "metadata": {},
   "source": [
    "After initial check the values of each feature, \"purpose， dti, term,  loan_amnt, pub_rec_bankruptcies, zip_code, tax_liens, emp_title\" are selected"
   ]
  },
  {
   "cell_type": "code",
   "execution_count": 15,
   "metadata": {},
   "outputs": [],
   "source": [
    "final_selected_features = ['id', 'issue_d','purpose',  'dti',  'term',  'loan_amnt',  'annual_inc',  'pub_rec_bankruptcies',  \n",
    " 'zip_code',  'tax_liens', 'emp_length', 'emp_title' , 'verification_status', 'earliest_cr_line',  'home_ownership' ,'fico_range_low', 'fico_range_high']"
   ]
  },
  {
   "cell_type": "markdown",
   "metadata": {},
   "source": [
    "## Data Transformation and Exploration"
   ]
  },
  {
   "cell_type": "markdown",
   "metadata": {},
   "source": [
    "'loan_income_ration' for ratio of loan amount to the annuual incomde provided by borrower"
   ]
  },
  {
   "cell_type": "code",
   "execution_count": 16,
   "metadata": {},
   "outputs": [],
   "source": [
    "full_concat_df['loan_income_ratio'] = full_concat_df['loan_amnt'] / full_concat_df['annual_inc']"
   ]
  },
  {
   "cell_type": "markdown",
   "metadata": {},
   "source": [
    "\"issue_d\" and \"earliest_cr_line\" features has no missing val and encoded to date format"
   ]
  },
  {
   "cell_type": "code",
   "execution_count": 17,
   "metadata": {},
   "outputs": [],
   "source": [
    "datetime_vars = ['issue_d', 'earliest_cr_line']"
   ]
  },
  {
   "cell_type": "code",
   "execution_count": 18,
   "metadata": {},
   "outputs": [
    {
     "name": "stdout",
     "output_type": "stream",
     "text": [
      "datetime encode: issue_d\n",
      "datetime encode: earliest_cr_line\n"
     ]
    }
   ],
   "source": [
    "dt_encode_no_missing_vars = []\n",
    "for dt_no_missing_var in datetime_vars:\n",
    "    print(f\"datetime encode: {dt_no_missing_var}\")\n",
    "    y_m_encode_var = dt_no_missing_var + \"_Y-M\"\n",
    "    dt_encode_no_missing_vars.append(y_m_encode_var)\n",
    "    y_encode_var = dt_no_missing_var + \"_year\"\n",
    "    dt_encode_no_missing_vars.append(y_encode_var)\n",
    "    m_encode_var = dt_no_missing_var + \"_month\"\n",
    "    dt_encode_no_missing_vars.append(m_encode_var)\n",
    "    \n",
    "    full_concat_df[y_m_encode_var] = pd.to_datetime(full_concat_df[dt_no_missing_var], format=\"%b-%Y\")\n",
    "    full_concat_df[y_encode_var] = pd.to_datetime(full_concat_df[dt_no_missing_var], format=\"%b-%Y\").apply(lambda x:x.year)\n",
    "    full_concat_df[m_encode_var] = pd.to_datetime(full_concat_df[dt_no_missing_var], format=\"%b-%Y\").apply(lambda x:x.month)"
   ]
  },
  {
   "cell_type": "code",
   "execution_count": 19,
   "metadata": {},
   "outputs": [
    {
     "data": {
      "text/plain": [
       "['issue_d_Y-M',\n",
       " 'issue_d_year',\n",
       " 'issue_d_month',\n",
       " 'earliest_cr_line_Y-M',\n",
       " 'earliest_cr_line_year',\n",
       " 'earliest_cr_line_month']"
      ]
     },
     "execution_count": 19,
     "metadata": {},
     "output_type": "execute_result"
    }
   ],
   "source": [
    "dt_encode_no_missing_vars"
   ]
  },
  {
   "cell_type": "markdown",
   "metadata": {},
   "source": [
    "Encode Categorical Values"
   ]
  },
  {
   "cell_type": "markdown",
   "metadata": {},
   "source": [
    "\"purpose\" label encoder "
   ]
  },
  {
   "cell_type": "code",
   "execution_count": 20,
   "metadata": {},
   "outputs": [
    {
     "data": {
      "text/plain": [
       "0"
      ]
     },
     "execution_count": 20,
     "metadata": {},
     "output_type": "execute_result"
    }
   ],
   "source": [
    "full_concat_df['purpose'].isnull().sum()"
   ]
  },
  {
   "cell_type": "code",
   "execution_count": 21,
   "metadata": {},
   "outputs": [
    {
     "name": "stdout",
     "output_type": "stream",
     "text": [
      "Label Encoding purpose\n",
      "Label-encoded feaures: purpose_le\n"
     ]
    }
   ],
   "source": [
    "LB_purpose = preprocessing.LabelEncoder()\n",
    "\n",
    "to_le_var = 'purpose'\n",
    "print (\"Label Encoding %s\" % (to_le_var))\n",
    "LE_var=to_le_var+'_le'\n",
    "full_concat_df[LE_var]=LB_purpose.fit_transform(full_concat_df[to_le_var])\n",
    "\n",
    "print (\"Label-encoded feaures: %s\" % (LE_var))"
   ]
  },
  {
   "cell_type": "code",
   "execution_count": 22,
   "metadata": {},
   "outputs": [
    {
     "data": {
      "text/plain": [
       "array(['car', 'credit_card', 'debt_consolidation', 'home_improvement',\n",
       "       'house', 'major_purchase', 'medical', 'moving', 'other',\n",
       "       'renewable_energy', 'small_business', 'vacation', 'wedding'],\n",
       "      dtype=object)"
      ]
     },
     "execution_count": 22,
     "metadata": {},
     "output_type": "execute_result"
    }
   ],
   "source": [
    "LB_purpose.classes_"
   ]
  },
  {
   "cell_type": "markdown",
   "metadata": {},
   "source": [
    "\"term\" encoding "
   ]
  },
  {
   "cell_type": "code",
   "execution_count": 48,
   "metadata": {},
   "outputs": [],
   "source": [
    "full_concat_df['term_encode'] = full_concat_df['term'].apply(lambda x: 0 if '36' in x else 1)"
   ]
  },
  {
   "cell_type": "markdown",
   "metadata": {},
   "source": [
    "zip_code: truncated zip_code to 'other' when count <20 (roughly estimate by check the value_counts plot. Could be fine-tuned later"
   ]
  },
  {
   "cell_type": "code",
   "execution_count": 23,
   "metadata": {},
   "outputs": [],
   "source": [
    "other_zipcode_list = full_concat_df['zip_code'].value_counts().index[full_concat_df['zip_code'].value_counts()<20]"
   ]
  },
  {
   "cell_type": "code",
   "execution_count": 24,
   "metadata": {},
   "outputs": [],
   "source": [
    "def replace_rare_zipcode(val):\n",
    "    if val in other_zipcode_list:\n",
    "        return 'other'\n",
    "    return val"
   ]
  },
  {
   "cell_type": "code",
   "execution_count": 25,
   "metadata": {},
   "outputs": [],
   "source": [
    "full_concat_df['zip_code_truncated'] = full_concat_df['zip_code'].apply(replace_rare_zipcode)"
   ]
  },
  {
   "cell_type": "code",
   "execution_count": 26,
   "metadata": {},
   "outputs": [
    {
     "name": "stdout",
     "output_type": "stream",
     "text": [
      "Label Encoding zip_code_truncated\n",
      "Label-encoded feaures: zip_code_truncated_le\n"
     ]
    }
   ],
   "source": [
    "LB_zip = preprocessing.LabelEncoder()\n",
    "\n",
    "to_le_var = 'zip_code_truncated'\n",
    "print (\"Label Encoding %s\" % (to_le_var))\n",
    "LE_var=to_le_var+'_le'\n",
    "full_concat_df[LE_var]=LB_zip.fit_transform(full_concat_df[to_le_var])\n",
    "\n",
    "print (\"Label-encoded feaures: %s\" % (LE_var))"
   ]
  },
  {
   "cell_type": "code",
   "execution_count": 27,
   "metadata": {},
   "outputs": [
    {
     "data": {
      "text/plain": [
       "94    3465\n",
       "84      88\n",
       "14      87\n",
       "11      76\n",
       "50      76\n",
       "      ... \n",
       "52      20\n",
       "2       20\n",
       "45      20\n",
       "88      20\n",
       "25      20\n",
       "Name: zip_code_truncated_le, Length: 95, dtype: int64"
      ]
     },
     "execution_count": 27,
     "metadata": {},
     "output_type": "execute_result"
    }
   ],
   "source": [
    "full_concat_df['zip_code_truncated_le'].value_counts()"
   ]
  },
  {
   "cell_type": "markdown",
   "metadata": {},
   "source": [
    "\"emp_title\" encoding, truncated emp_title by replacy others when count of that category is less than 10. This truncated number could be fine-tuned later"
   ]
  },
  {
   "cell_type": "code",
   "execution_count": 28,
   "metadata": {},
   "outputs": [],
   "source": [
    "other_emp_title_list = full_concat_df['emp_title'].value_counts().index[full_concat_df['emp_title'].value_counts()<10]"
   ]
  },
  {
   "cell_type": "code",
   "execution_count": 29,
   "metadata": {},
   "outputs": [],
   "source": [
    "def replace_rare_emp_title(val):\n",
    "    if val in other_emp_title_list:\n",
    "        return 'other'\n",
    "    return val"
   ]
  },
  {
   "cell_type": "code",
   "execution_count": 30,
   "metadata": {},
   "outputs": [],
   "source": [
    "full_concat_df['emp_title_truncated'] = full_concat_df['emp_title'].apply(replace_rare_emp_title)"
   ]
  },
  {
   "cell_type": "code",
   "execution_count": 31,
   "metadata": {},
   "outputs": [
    {
     "data": {
      "text/plain": [
       "other                  5830\n",
       "Teacher                  86\n",
       "Manager                  52\n",
       "RN                       30\n",
       "Project Manager          27\n",
       "Engineer                 25\n",
       "Sales                    24\n",
       "Supervisor               22\n",
       "Registered Nurse         21\n",
       "Director                 16\n",
       "Accountant               15\n",
       "Executive Assistant      14\n",
       "manager                  12\n",
       "Account Manager          12\n",
       "General Manager          12\n",
       "Driver                   12\n",
       "Vice President           11\n",
       "mechanic                 10\n",
       "Executive Director       10\n",
       "Name: emp_title_truncated, dtype: int64"
      ]
     },
     "execution_count": 31,
     "metadata": {},
     "output_type": "execute_result"
    }
   ],
   "source": [
    "full_concat_df['emp_title_truncated'].value_counts()"
   ]
  },
  {
   "cell_type": "code",
   "execution_count": 32,
   "metadata": {},
   "outputs": [
    {
     "name": "stdout",
     "output_type": "stream",
     "text": [
      "Label Encoding emp_title_truncated_impute\n",
      "Label-encoded feaures: emp_title_truncated_impute_le\n"
     ]
    }
   ],
   "source": [
    "full_concat_df['emp_title_truncated_impute'] = full_concat_df['emp_title_truncated'].fillna('Missing')\n",
    "LB_emp_title = preprocessing.LabelEncoder()\n",
    "\n",
    "to_le_var = 'emp_title_truncated_impute'\n",
    "print (\"Label Encoding %s\" % (to_le_var))\n",
    "LE_var=to_le_var+'_le'\n",
    "full_concat_df[LE_var]=LB_emp_title.fit_transform(full_concat_df[to_le_var])\n",
    "\n",
    "print (\"Label-encoded feaures: %s\" % (LE_var))"
   ]
  },
  {
   "cell_type": "markdown",
   "metadata": {},
   "source": [
    "\"Employment length\" encoding, the missing value replaced by -999"
   ]
  },
  {
   "cell_type": "code",
   "execution_count": 33,
   "metadata": {},
   "outputs": [
    {
     "data": {
      "text/plain": [
       "216"
      ]
     },
     "execution_count": 33,
     "metadata": {},
     "output_type": "execute_result"
    }
   ],
   "source": [
    "full_concat_df['emp_length'].isnull().sum()"
   ]
  },
  {
   "cell_type": "code",
   "execution_count": 34,
   "metadata": {},
   "outputs": [],
   "source": [
    "full_concat_df['emp_length_impute'] = full_concat_df['emp_length'].fillna('-999')\n",
    "full_concat_df['emp_length_impute_num'] = full_concat_df['emp_length_impute'].str.extract(r\"([-+]?[0-9]+)\")\\\n",
    ".astype('float').astype('int')"
   ]
  },
  {
   "cell_type": "markdown",
   "metadata": {},
   "source": [
    "\"verification_status\" enconding"
   ]
  },
  {
   "cell_type": "code",
   "execution_count": 35,
   "metadata": {},
   "outputs": [
    {
     "data": {
      "text/plain": [
       "0"
      ]
     },
     "execution_count": 35,
     "metadata": {},
     "output_type": "execute_result"
    }
   ],
   "source": [
    "\n",
    "full_concat_df['verification_status'].isnull().sum()"
   ]
  },
  {
   "cell_type": "code",
   "execution_count": 36,
   "metadata": {},
   "outputs": [],
   "source": [
    "def verfication_status_encode(val):\n",
    "    if val == 'Verified':\n",
    "        return 0\n",
    "    if val == 'Source Verified':\n",
    "        return 1\n",
    "    else:\n",
    "        return 2"
   ]
  },
  {
   "cell_type": "code",
   "execution_count": 37,
   "metadata": {},
   "outputs": [],
   "source": [
    "full_concat_df['verification_status_le'] = full_concat_df['verification_status'].apply(verfication_status_encode)"
   ]
  },
  {
   "cell_type": "markdown",
   "metadata": {},
   "source": [
    "\"home_ownership\" encoding"
   ]
  },
  {
   "cell_type": "code",
   "execution_count": 38,
   "metadata": {},
   "outputs": [
    {
     "data": {
      "text/plain": [
       "0"
      ]
     },
     "execution_count": 38,
     "metadata": {},
     "output_type": "execute_result"
    }
   ],
   "source": [
    "full_concat_df['home_ownership'].isnull().sum()"
   ]
  },
  {
   "cell_type": "code",
   "execution_count": 39,
   "metadata": {},
   "outputs": [
    {
     "data": {
      "text/plain": [
       "RENT        3065\n",
       "MORTGAGE    2998\n",
       "OWN          523\n",
       "Name: home_ownership, dtype: int64"
      ]
     },
     "execution_count": 39,
     "metadata": {},
     "output_type": "execute_result"
    }
   ],
   "source": [
    "full_concat_df['home_ownership'].value_counts()"
   ]
  },
  {
   "cell_type": "code",
   "execution_count": 40,
   "metadata": {},
   "outputs": [],
   "source": [
    "def home_ownership_encode(val):\n",
    "    if val == 'RENT':\n",
    "        return 0\n",
    "    if val == 'OWN':\n",
    "        return 1\n",
    "    else:\n",
    "        return 2"
   ]
  },
  {
   "cell_type": "code",
   "execution_count": 41,
   "metadata": {},
   "outputs": [],
   "source": [
    "full_concat_df['home_ownership_le'] = full_concat_df['home_ownership'].apply(home_ownership_encode)"
   ]
  },
  {
   "cell_type": "code",
   "execution_count": 42,
   "metadata": {},
   "outputs": [
    {
     "data": {
      "text/plain": [
       "0    3065\n",
       "2    2998\n",
       "1     523\n",
       "Name: home_ownership_le, dtype: int64"
      ]
     },
     "execution_count": 42,
     "metadata": {},
     "output_type": "execute_result"
    }
   ],
   "source": [
    "full_concat_df['home_ownership_le'].value_counts()"
   ]
  },
  {
   "cell_type": "markdown",
   "metadata": {},
   "source": [
    "\"tax_liens\" encoding\n"
   ]
  },
  {
   "cell_type": "code",
   "execution_count": 43,
   "metadata": {},
   "outputs": [
    {
     "data": {
      "text/plain": [
       "0"
      ]
     },
     "execution_count": 43,
     "metadata": {},
     "output_type": "execute_result"
    }
   ],
   "source": [
    "full_concat_df['tax_liens'].isnull().sum()"
   ]
  },
  {
   "cell_type": "code",
   "execution_count": 44,
   "metadata": {},
   "outputs": [
    {
     "data": {
      "text/plain": [
       "0    6499\n",
       "1      54\n",
       "2      21\n",
       "3       8\n",
       "4       3\n",
       "8       1\n",
       "Name: tax_liens, dtype: int64"
      ]
     },
     "execution_count": 44,
     "metadata": {},
     "output_type": "execute_result"
    }
   ],
   "source": [
    "full_concat_df['tax_liens'].value_counts()"
   ]
  },
  {
   "cell_type": "code",
   "execution_count": 45,
   "metadata": {},
   "outputs": [
    {
     "name": "stdout",
     "output_type": "stream",
     "text": [
      "Label Encoding tax_liens\n",
      "Label-encoded feaures: tax_liens_le\n"
     ]
    }
   ],
   "source": [
    "LB_tax = preprocessing.LabelEncoder()\n",
    "\n",
    "to_le_var = 'tax_liens'\n",
    "print (\"Label Encoding %s\" % (to_le_var))\n",
    "LE_var=to_le_var+'_le'\n",
    "full_concat_df[LE_var]=LB_tax.fit_transform(full_concat_df[to_le_var])\n",
    "\n",
    "print (\"Label-encoded feaures: %s\" % (LE_var))"
   ]
  },
  {
   "cell_type": "code",
   "execution_count": 46,
   "metadata": {},
   "outputs": [
    {
     "data": {
      "text/plain": [
       "0    6499\n",
       "1      54\n",
       "2      21\n",
       "3       8\n",
       "4       3\n",
       "5       1\n",
       "Name: tax_liens_le, dtype: int64"
      ]
     },
     "execution_count": 46,
     "metadata": {},
     "output_type": "execute_result"
    }
   ],
   "source": [
    "full_concat_df['tax_liens_le'].value_counts()"
   ]
  },
  {
   "cell_type": "markdown",
   "metadata": {},
   "source": [
    "output the feature vars after encoding to csv file for random forest model prediction"
   ]
  },
  {
   "cell_type": "code",
   "execution_count": 49,
   "metadata": {},
   "outputs": [],
   "source": [
    "full_concat_df.to_csv(\"df_to_RF_model.csv\")"
   ]
  }
 ],
 "metadata": {
  "environment": {
   "name": "tf2-gpu.2-1.m46",
   "type": "gcloud",
   "uri": "gcr.io/deeplearning-platform-release/tf2-gpu.2-1:m46"
  },
  "kernelspec": {
   "display_name": "Python 3",
   "language": "python",
   "name": "python3"
  },
  "language_info": {
   "codemirror_mode": {
    "name": "ipython",
    "version": 3
   },
   "file_extension": ".py",
   "mimetype": "text/x-python",
   "name": "python",
   "nbconvert_exporter": "python",
   "pygments_lexer": "ipython3",
   "version": "3.7.6"
  }
 },
 "nbformat": 4,
 "nbformat_minor": 4
}
