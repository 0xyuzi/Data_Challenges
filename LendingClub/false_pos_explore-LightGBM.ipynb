{
 "cells": [
  {
   "cell_type": "markdown",
   "metadata": {},
   "source": [
    "## LightGBM Pediction Model"
   ]
  },
  {
   "cell_type": "code",
   "execution_count": 1,
   "metadata": {},
   "outputs": [],
   "source": [
    "import pandas as pd\n",
    "import numpy as np\n",
    "import seaborn as sns\n",
    "import matplotlib.pylab as plt\n",
    "from sklearn import preprocessing, pipeline, metrics, model_selection\n",
    "from sklearn.model_selection import GridSearchCV\n",
    "\n",
    "pd.options.display.max_columns = 999\n",
    "pd.options.display.max_colwidth = 100\n",
    "sns.set_style(\"white\")\n",
    "%matplotlib inline"
   ]
  },
  {
   "cell_type": "code",
   "execution_count": 2,
   "metadata": {},
   "outputs": [
    {
     "name": "stderr",
     "output_type": "stream",
     "text": [
      "/opt/conda/lib/python3.7/site-packages/IPython/core/interactiveshell.py:3063: DtypeWarning: Columns (130,131,132,135,136,137,140) have mixed types.Specify dtype option on import or set low_memory=False.\n",
      "  interactivity=interactivity, compiler=compiler, result=result)\n"
     ]
    }
   ],
   "source": [
    "# read input \n",
    "full_concat_df = pd.read_csv(\"df_to_RF_model.csv\")"
   ]
  },
  {
   "cell_type": "markdown",
   "metadata": {},
   "source": [
    "### Encode loan_status as target"
   ]
  },
  {
   "cell_type": "code",
   "execution_count": 3,
   "metadata": {},
   "outputs": [],
   "source": [
    "full_concat_df['target'] = full_concat_df['loan_status'].apply(lambda x: 1 if x == 'Charged Off' else 0)"
   ]
  },
  {
   "cell_type": "code",
   "execution_count": 4,
   "metadata": {},
   "outputs": [],
   "source": [
    "encode_vars = ['tax_liens_le', 'home_ownership_le','verification_status_le','emp_length_impute_num', \n",
    "               'emp_title_truncated_impute_le','zip_code_truncated_le','term_encode', 'purpose_le']\n",
    "\n",
    "num_vars = ['pub_rec_bankruptcies','dti','loan_amnt', 'annual_inc' ,'loan_income_ratio','fico_range_low','fico_range_high']\n",
    "\n",
    "\n",
    "\n"
   ]
  },
  {
   "cell_type": "markdown",
   "metadata": {},
   "source": [
    "### Encode loan_status as target"
   ]
  },
  {
   "cell_type": "code",
   "execution_count": 5,
   "metadata": {},
   "outputs": [],
   "source": [
    "predict_features = num_vars + encode_vars"
   ]
  },
  {
   "cell_type": "code",
   "execution_count": 6,
   "metadata": {},
   "outputs": [],
   "source": [
    "from sklearn.datasets import make_classification\n",
    "from sklearn.model_selection import cross_val_score,cross_validate\n",
    "from sklearn.model_selection import RepeatedStratifiedKFold\n",
    "from sklearn.ensemble import RandomForestClassifier\n",
    "from sklearn.metrics import confusion_matrix\n",
    "from sklearn.model_selection import train_test_split\n",
    "np.random.seed(4684)\n",
    "\n",
    "#split into train and test to avoid overfitting\n",
    "train_df = full_concat_df\n",
    "# train_df = full_concat_df\n",
    "\n",
    "X_train, X_test, y_train, y_test = train_test_split(full_concat_df[predict_features], full_concat_df['target'], stratify=full_concat_df['target'], test_size=0.2, random_state=42)\n"
   ]
  },
  {
   "cell_type": "code",
   "execution_count": 7,
   "metadata": {},
   "outputs": [
    {
     "data": {
      "text/plain": [
       "((5268, 15), (5268,))"
      ]
     },
     "execution_count": 7,
     "metadata": {},
     "output_type": "execute_result"
    }
   ],
   "source": [
    "X_train.shape, y_train.shape"
   ]
  },
  {
   "cell_type": "markdown",
   "metadata": {},
   "source": [
    "Grid search"
   ]
  },
  {
   "cell_type": "code",
   "execution_count": 8,
   "metadata": {},
   "outputs": [
    {
     "name": "stdout",
     "output_type": "stream",
     "text": [
      "\n",
      " Tuning parameter feature_fraction in [0.1, 0.3, 0.5, 0.7, 0.9]\n",
      "\n",
      "    feature_fraction: 0.1\n",
      ", best_score: 0.434911, best_iteration: 88\n",
      "\n",
      "    feature_fraction: 0.3\n",
      ", best_score: 0.431121, best_iteration: 66\n",
      "\n",
      "    feature_fraction: 0.5\n",
      ", best_score: 0.427188, best_iteration: 48\n",
      "\n",
      "    feature_fraction: 0.7\n",
      ", best_score: 0.426883, best_iteration: 42\n",
      "\n",
      "    feature_fraction: 0.9\n",
      ", best_score: 0.427244, best_iteration: 35\n",
      "Best feature_fraction is 0.7 with a score of 0.426883\n",
      "\n",
      " Tuning parameter num_leaves in [3, 7, 15, 31, 63, 127]\n",
      "\n",
      "    num_leaves: 3\n",
      ", best_score: 0.423427, best_iteration: 127\n",
      "\n",
      "    num_leaves: 7\n",
      ", best_score: 0.424723, best_iteration: 85\n",
      "\n",
      "    num_leaves: 15\n",
      ", best_score: 0.425591, best_iteration: 60\n",
      "\n",
      "    num_leaves: 31\n",
      ", best_score: 0.426883, best_iteration: 42\n",
      "\n",
      "    num_leaves: 63\n",
      ", best_score: 0.430378, best_iteration: 28\n",
      "\n",
      "    num_leaves: 127\n",
      ", best_score: 0.431851, best_iteration: 29\n",
      "Best num_leaves is 3 with a score of 0.423427\n",
      "\n",
      " Tuning parameter max_depth in [3, 7, 10, 15, 31, -1]\n",
      "\n",
      "    max_depth: 3\n",
      ", best_score: 0.423427, best_iteration: 127\n",
      "\n",
      "    max_depth: 7\n",
      ", best_score: 0.423427, best_iteration: 127\n",
      "\n",
      "    max_depth: 10\n",
      ", best_score: 0.423427, best_iteration: 127\n",
      "\n",
      "    max_depth: 15\n",
      ", best_score: 0.423427, best_iteration: 127\n",
      "\n",
      "    max_depth: 31\n",
      ", best_score: 0.423427, best_iteration: 127\n",
      "\n",
      "    max_depth: -1\n",
      ", best_score: 0.423427, best_iteration: 127\n",
      "Best max_depth is 3 with a score of 0.423427\n",
      "\n",
      " Tuning parameter min_gain_to_split in [0, 0.1, 0.3, 1, 1.5, 2, 3]\n",
      "\n",
      "    min_gain_to_split: 0\n",
      ", best_score: 0.423427, best_iteration: 127\n",
      "\n",
      "    min_gain_to_split: 0.1\n",
      ", best_score: 0.423427, best_iteration: 127\n",
      "\n",
      "    min_gain_to_split: 0.3\n",
      ", best_score: 0.423427, best_iteration: 127\n",
      "\n",
      "    min_gain_to_split: 1\n",
      ", best_score: 0.423415, best_iteration: 143\n",
      "\n",
      "    min_gain_to_split: 1.5\n",
      ", best_score: 0.423415, best_iteration: 143\n",
      "\n",
      "    min_gain_to_split: 2\n",
      ", best_score: 0.423501, best_iteration: 124\n",
      "\n",
      "    min_gain_to_split: 3\n",
      ", best_score: 0.423689, best_iteration: 108\n",
      "Best min_gain_to_split is 1 with a score of 0.423415\n",
      "\n",
      " Tuning parameter bagging_fraction in [0.2, 0.4, 0.6, 0.8, 1]\n",
      "\n",
      "    bagging_fraction: 0.2\n",
      ", best_score: 0.422925, best_iteration: 225\n",
      "\n",
      "    bagging_fraction: 0.4\n",
      ", best_score: 0.422426, best_iteration: 169\n",
      "\n",
      "    bagging_fraction: 0.6\n",
      ", best_score: 0.422198, best_iteration: 162\n",
      "\n",
      "    bagging_fraction: 0.8\n",
      ", best_score: 0.422709, best_iteration: 147\n",
      "\n",
      "    bagging_fraction: 1\n",
      ", best_score: 0.423415, best_iteration: 143\n",
      "Best bagging_fraction is 0.6 with a score of 0.422198\n",
      "\n",
      " Tuning parameter min_sum_hessian_in_leaf in [0, 0.0001, 0.001, 0.1, 1, 3, 10]\n",
      "\n",
      "    min_sum_hessian_in_leaf: 0\n",
      ", best_score: 0.422198, best_iteration: 162\n",
      "\n",
      "    min_sum_hessian_in_leaf: 0.0001\n",
      ", best_score: 0.422198, best_iteration: 162\n",
      "\n",
      "    min_sum_hessian_in_leaf: 0.001\n",
      ", best_score: 0.422198, best_iteration: 162\n",
      "\n",
      "    min_sum_hessian_in_leaf: 0.1\n",
      ", best_score: 0.422198, best_iteration: 162\n",
      "\n",
      "    min_sum_hessian_in_leaf: 1\n",
      ", best_score: 0.422198, best_iteration: 162\n",
      "\n",
      "    min_sum_hessian_in_leaf: 3\n",
      ", best_score: 0.422419, best_iteration: 162\n",
      "\n",
      "    min_sum_hessian_in_leaf: 10\n",
      ", best_score: 0.422215, best_iteration: 173\n",
      "Best min_sum_hessian_in_leaf is 0 with a score of 0.422198\n",
      "\n",
      " Tuning parameter lambda_l2 in [0, 0.01, 0.1, 1, 10, 100]\n",
      "\n",
      "    lambda_l2: 0\n",
      ", best_score: 0.422198, best_iteration: 162\n",
      "\n",
      "    lambda_l2: 0.01\n",
      ", best_score: 0.422191, best_iteration: 162\n",
      "\n",
      "    lambda_l2: 0.1\n",
      ", best_score: 0.422560, best_iteration: 162\n",
      "\n",
      "    lambda_l2: 1\n",
      ", best_score: 0.422091, best_iteration: 172\n",
      "\n",
      "    lambda_l2: 10\n",
      ", best_score: 0.421769, best_iteration: 237\n",
      "\n",
      "    lambda_l2: 100\n",
      ", best_score: 0.422573, best_iteration: 326\n",
      "Best lambda_l2 is 10 with a score of 0.421769\n",
      "\n",
      " Tuning parameter lambda_l1 in [0, 0.01, 0.1, 1, 10]\n",
      "\n",
      "    lambda_l1: 0\n",
      ", best_score: 0.421769, best_iteration: 237\n",
      "\n",
      "    lambda_l1: 0.01\n",
      ", best_score: 0.421822, best_iteration: 237\n",
      "\n",
      "    lambda_l1: 0.1\n",
      ", best_score: 0.421850, best_iteration: 189\n",
      "\n",
      "    lambda_l1: 1\n",
      ", best_score: 0.421904, best_iteration: 237\n",
      "\n",
      "    lambda_l1: 10\n",
      ", best_score: 0.424890, best_iteration: 118\n",
      "Best lambda_l1 is 0 with a score of 0.421769\n",
      "\n",
      " Best manually tuned parameters: {'objective': 'binary', 'learning_rate': 0.05, 'metric': 'binary_logloss', 'bagging_freq': 1, 'seed': 1234, 'feature_fraction': 0.7, 'num_leaves': 3, 'max_depth': 3, 'min_gain_to_split': 1, 'bagging_fraction': 0.6, 'min_sum_hessian_in_leaf': 0, 'lambda_l2': 10, 'lambda_l1': 0}\n"
     ]
    }
   ],
   "source": [
    "import lightgbm as lgb\n",
    "import copy\n",
    "greater_is_better = False\n",
    "\n",
    "lgb_metric = 'binary_logloss'\n",
    "default_lgb_params = {}\n",
    "default_lgb_params[\"objective\"] = \"binary\"\n",
    "default_lgb_params[\"learning_rate\"] = 0.05\n",
    "default_lgb_params[\"metric\"] = lgb_metric\n",
    "default_lgb_params[\"bagging_freq\"] = 1\n",
    "default_lgb_params[\"seed\"] = 1234\n",
    "\n",
    "params_lgb_space = {}\n",
    "params_lgb_space['feature_fraction'] = [0.1, 0.3, 0.5, 0.7, 0.9]\n",
    "params_lgb_space['num_leaves'] = [3, 7, 15, 31, 63, 127]\n",
    "params_lgb_space['max_depth'] = [3, 7, 10, 15, 31, -1]\n",
    "params_lgb_space['min_gain_to_split'] = [0, 0.1, 0.3, 1, 1.5, 2, 3]\n",
    "params_lgb_space['bagging_fraction'] = [0.2, 0.4, 0.6, 0.8, 1]\n",
    "params_lgb_space['min_sum_hessian_in_leaf'] = [0, 0.0001, 0.001, 0.1, 1, 3, 10]\n",
    "params_lgb_space['lambda_l2'] = [0, 0.01, 0.1, 1, 10, 100]\n",
    "params_lgb_space['lambda_l1'] = [0, 0.01, 0.1, 1, 10]\n",
    "\n",
    "\n",
    "best_lgb_params = copy.copy(default_lgb_params)\n",
    "\n",
    "for p in params_lgb_space:\n",
    "    print (\"\\n Tuning parameter %s in %s\" % (p, params_lgb_space[p]))\n",
    "\n",
    "    params = best_lgb_params\n",
    "    scores = []    \n",
    "    for v in params_lgb_space[p]:\n",
    "        print ('\\n    %s: %s' % (p, v), end=\"\\n\")\n",
    "        params[p] = v\n",
    "        lgb_cv = lgb.cv(params,\n",
    "                lgb.Dataset(X_train,\n",
    "                            label=y_train\n",
    "                            ),\n",
    "                num_boost_round=100000,\n",
    "                nfold=5,\n",
    "                stratified=False,\n",
    "                early_stopping_rounds=50,\n",
    "                verbose_eval=False)\n",
    "        if greater_is_better:\n",
    "            best_lgb_score = min(lgb_cv['%s-mean' % (lgb_metric)])\n",
    "        else:\n",
    "            best_lgb_score = min(lgb_cv['%s-mean' % (lgb_metric)])\n",
    "        best_lgb_iteration = len(lgb_cv['%s-mean' % (lgb_metric)])\n",
    "        print (', best_score: %f, best_iteration: %d' % (best_lgb_score, best_lgb_iteration))\n",
    "        scores.append([v, best_lgb_score])\n",
    "    # best param value in the space\n",
    "    best_param_value = sorted(scores, key=lambda x:x[1],reverse=greater_is_better)[0][0]\n",
    "    best_param_score = sorted(scores, key=lambda x:x[1],reverse=greater_is_better)[0][1]\n",
    "    best_lgb_params[p] = best_param_value\n",
    "    print (\"Best %s is %s with a score of %f\" %(p, best_param_value, best_param_score))\n",
    "\n",
    "print ('\\n Best manually tuned parameters:', best_lgb_params)    "
   ]
  },
  {
   "cell_type": "code",
   "execution_count": 9,
   "metadata": {},
   "outputs": [
    {
     "name": "stdout",
     "output_type": "stream",
     "text": [
      "\n",
      " Best manually tuned parameters: {'objective': 'binary', 'learning_rate': 0.05, 'metric': 'binary_logloss', 'bagging_freq': 1, 'seed': 1234, 'feature_fraction': 0.7, 'num_leaves': 3, 'max_depth': 3, 'min_gain_to_split': 1, 'bagging_fraction': 0.6, 'min_sum_hessian_in_leaf': 0, 'lambda_l2': 10, 'lambda_l1': 0}\n"
     ]
    }
   ],
   "source": [
    "print ('\\n Best manually tuned parameters:', best_lgb_params)    "
   ]
  },
  {
   "cell_type": "code",
   "execution_count": 10,
   "metadata": {},
   "outputs": [],
   "source": [
    "model = lgb.train(best_lgb_params,\n",
    "                  lgb.Dataset(X_train,\n",
    "                              label=y_train\n",
    "                              ),\n",
    "                  num_boost_round=best_lgb_iteration)\n",
    "y_pred_prob = model.predict(X_test)\n"
   ]
  },
  {
   "cell_type": "markdown",
   "metadata": {},
   "source": [
    "### LightGBM Prediction and Performance Evaluation "
   ]
  },
  {
   "cell_type": "markdown",
   "metadata": {},
   "source": [
    "Confusion matrix"
   ]
  },
  {
   "cell_type": "code",
   "execution_count": 11,
   "metadata": {},
   "outputs": [],
   "source": [
    "y_pred = []\n",
    "for i in range(len(y_pred_prob)):\n",
    "    if y_pred_prob[i]>=0.2:      \n",
    "       y_pred.append(1)\n",
    "    else:  \n",
    "       y_pred.append(0)"
   ]
  },
  {
   "cell_type": "code",
   "execution_count": 12,
   "metadata": {},
   "outputs": [
    {
     "data": {
      "text/html": [
       "<div>\n",
       "<style scoped>\n",
       "    .dataframe tbody tr th:only-of-type {\n",
       "        vertical-align: middle;\n",
       "    }\n",
       "\n",
       "    .dataframe tbody tr th {\n",
       "        vertical-align: top;\n",
       "    }\n",
       "\n",
       "    .dataframe thead th {\n",
       "        text-align: right;\n",
       "    }\n",
       "</style>\n",
       "<table border=\"1\" class=\"dataframe\">\n",
       "  <thead>\n",
       "    <tr style=\"text-align: right;\">\n",
       "      <th></th>\n",
       "      <th>Predicted Not charge-off</th>\n",
       "      <th>Predicted Charge-off</th>\n",
       "    </tr>\n",
       "  </thead>\n",
       "  <tbody>\n",
       "    <tr>\n",
       "      <th>Not Chargeoff</th>\n",
       "      <td>799</td>\n",
       "      <td>300</td>\n",
       "    </tr>\n",
       "    <tr>\n",
       "      <th>Charge-off</th>\n",
       "      <td>105</td>\n",
       "      <td>114</td>\n",
       "    </tr>\n",
       "  </tbody>\n",
       "</table>\n",
       "</div>"
      ],
      "text/plain": [
       "               Predicted Not charge-off  Predicted Charge-off\n",
       "Not Chargeoff                       799                   300\n",
       "Charge-off                          105                   114"
      ]
     },
     "execution_count": 12,
     "metadata": {},
     "output_type": "execute_result"
    }
   ],
   "source": [
    "confusion_matrix(y_test, y_pred)\n",
    "pd_confusion_matrix = pd.DataFrame(data = confusion_matrix(y_test, y_pred), columns=['Predicted Not charge-off', 'Predicted Charge-off'], index=['Not Chargeoff', 'Charge-off'])\n",
    "pd_confusion_matrix"
   ]
  },
  {
   "cell_type": "markdown",
   "metadata": {},
   "source": [
    "Grid serach to find the optimal hyperparameters"
   ]
  },
  {
   "cell_type": "markdown",
   "metadata": {},
   "source": [
    "roc_auc score "
   ]
  },
  {
   "cell_type": "code",
   "execution_count": 13,
   "metadata": {},
   "outputs": [
    {
     "name": "stdout",
     "output_type": "stream",
     "text": [
      "No Skill: ROC AUC=0.500\n",
      "Logistic: ROC AUC=0.683\n"
     ]
    },
    {
     "data": {
      "image/png": "[encoded data removed]",
      "text/plain": [
       "<Figure size 432x288 with 1 Axes>"
      ]
     },
     "metadata": {
      "needs_background": "light"
     },
     "output_type": "display_data"
    }
   ],
   "source": [
    "from sklearn.metrics import roc_auc_score\n",
    "from sklearn.metrics import roc_curve\n",
    "import matplotlib.pylab as plt\n",
    "\n",
    "# generate a no skill prediction (majority class)\n",
    "ns_probs = [0 for _ in range(len(y_test))]\n",
    "# fit a model\n",
    "# predict probabilities\n",
    "# keep probabilities for the positive outcome only\n",
    "# calculate scores\n",
    "ns_auc = roc_auc_score(y_test, ns_probs)\n",
    "gbm_auc = roc_auc_score(y_test, y_pred_prob)\n",
    "# summarize scores\n",
    "print('No Skill: ROC AUC=%.3f' % (ns_auc))\n",
    "print('Logistic: ROC AUC=%.3f' % (gbm_auc))\n",
    "# calculate roc curves\n",
    "ns_fpr, ns_tpr, _ = roc_curve(y_test, ns_probs)\n",
    "gbm_fpr, gbm_tpr, _ = roc_curve(y_test, y_pred_prob)\n",
    "# plot the roc curve for the mode\n",
    "plt.plot(ns_fpr, ns_tpr, linestyle='--', label='No Skill')\n",
    "plt.plot(gbm_fpr, gbm_tpr, marker='.', label='lightGBM')\n",
    "# axis labels\n",
    "plt.xlabel('False Positive Rate')\n",
    "plt.ylabel('True Positive Rate')\n",
    "# show the legend\n",
    "plt.legend()\n",
    "# show the plot\n",
    "plt.show()"
   ]
  },
  {
   "cell_type": "markdown",
   "metadata": {},
   "source": [
    "gini coefficient and kolmogorov-smirnov are common used in credit-risk industry"
   ]
  },
  {
   "cell_type": "code",
   "execution_count": 14,
   "metadata": {},
   "outputs": [],
   "source": [
    "y_hat_test_proba = model.predict(X_test)"
   ]
  },
  {
   "cell_type": "code",
   "execution_count": 15,
   "metadata": {},
   "outputs": [],
   "source": [
    "y_hat_test_proba_char_off = y_hat_test_proba"
   ]
  },
  {
   "cell_type": "code",
   "execution_count": 16,
   "metadata": {},
   "outputs": [],
   "source": [
    "df_test_y = pd.DataFrame(y_test)\n",
    "df_test_y.reset_index(drop = True, inplace = True)"
   ]
  },
  {
   "cell_type": "code",
   "execution_count": 17,
   "metadata": {},
   "outputs": [],
   "source": [
    "df_t_test_prob = pd.DataFrame(y_hat_test_proba_char_off)"
   ]
  },
  {
   "cell_type": "code",
   "execution_count": 18,
   "metadata": {},
   "outputs": [],
   "source": [
    "df_actual_predicted_probs = pd.concat([df_test_y, df_t_test_prob], axis = 1,ignore_index=False)\n"
   ]
  },
  {
   "cell_type": "code",
   "execution_count": 19,
   "metadata": {},
   "outputs": [],
   "source": [
    "df_actual_predicted_probs.index = X_test.index"
   ]
  },
  {
   "cell_type": "code",
   "execution_count": 20,
   "metadata": {},
   "outputs": [],
   "source": [
    "\n",
    "df_actual_predicted_probs.columns = ['loan_data_targets_test', 'y_hat_test_proba']"
   ]
  },
  {
   "cell_type": "code",
   "execution_count": 21,
   "metadata": {},
   "outputs": [],
   "source": [
    "df_probs_threashold = df_actual_predicted_probs.sort_values('y_hat_test_proba',ascending=False)\n"
   ]
  },
  {
   "cell_type": "code",
   "execution_count": 22,
   "metadata": {},
   "outputs": [],
   "source": [
    "df_probs_threashold = df_probs_threashold.reset_index(drop=True)"
   ]
  },
  {
   "cell_type": "code",
   "execution_count": 23,
   "metadata": {},
   "outputs": [],
   "source": [
    "# check the prob_threashold of charge-off\n",
    "\n",
    "df_probs_threashold['Cumulative N Population'] = df_probs_threashold.index + 1\n",
    "# We calculate the cumulative number of all observations.\n",
    "# We use the new index for that. Since indexing in ython starts from 0, we add 1 to each index.\n",
    "df_probs_threashold['Cumulative N Charge-off'] = df_probs_threashold['loan_data_targets_test'].cumsum()\n",
    "# We calculate cumulative number of 'good', which is the cumulative sum of the column with actual observations.\n",
    "df_probs_threashold['Cumulative N Good'] = df_probs_threashold['Cumulative N Population'] - df_probs_threashold['loan_data_targets_test'].cumsum()\n",
    "\n"
   ]
  },
  {
   "cell_type": "code",
   "execution_count": 24,
   "metadata": {},
   "outputs": [],
   "source": [
    "df_probs_threashold['Cumulative Perc Population'] = df_probs_threashold['Cumulative N Population'] / (df_probs_threashold.shape[0])\n",
    "# We calculate the cumulative percentage of all observations.\n",
    "df_probs_threashold['Cumulative Perc Charge-off'] = df_probs_threashold['Cumulative N Charge-off'] / df_probs_threashold['loan_data_targets_test'].sum()\n",
    "# We calculate cumulative percentage of 'good'.\n",
    "df_probs_threashold['Cumulative Perc Good'] = df_probs_threashold['Cumulative N Good'] / (df_probs_threashold.shape[0] - df_probs_threashold['loan_data_targets_test'].sum())\n",
    "# We calculate the cumulative percentage of 'bad'."
   ]
  },
  {
   "cell_type": "code",
   "execution_count": 25,
   "metadata": {},
   "outputs": [
    {
     "data": {
      "text/plain": [
       "Text(0.5, 1.0, 'Gini')"
      ]
     },
     "execution_count": 25,
     "metadata": {},
     "output_type": "execute_result"
    },
    {
     "data": {
      "image/png": "[encoded data removed]",
      "text/plain": [
       "<Figure size 432x288 with 1 Axes>"
      ]
     },
     "metadata": {
      "needs_background": "light"
     },
     "output_type": "display_data"
    }
   ],
   "source": [
    "# Plot Gini\n",
    "plt.plot(df_probs_threashold['Cumulative Perc Population'], df_probs_threashold['Cumulative Perc Charge-off'])\n",
    "# We plot the cumulative percentage of all along the x-axis and the cumulative percentage 'good' along the y-axis,\n",
    "# thus plotting the Gini curve.\n",
    "plt.plot(df_probs_threashold['Cumulative Perc Population'], df_probs_threashold['Cumulative Perc Population'], linestyle = '--', color = 'k')\n",
    "# We plot a seconary diagonal line, with dashed line style and black color.\n",
    "plt.xlabel('Cumulative % Population')\n",
    "# We name the x-axis \"Cumulative % Population\".\n",
    "plt.ylabel('Cumulative % Charge-off')\n",
    "# We name the y-axis \"Cumulative % Bad\".\n",
    "plt.title('Gini')\n",
    "# We name the graph \"Gini\"."
   ]
  },
  {
   "cell_type": "code",
   "execution_count": 26,
   "metadata": {},
   "outputs": [
    {
     "data": {
      "text/plain": [
       "0.36554194140792173"
      ]
     },
     "execution_count": 26,
     "metadata": {},
     "output_type": "execute_result"
    }
   ],
   "source": [
    "gini_coef = 2*gbm_auc-1\n",
    "gini_coef"
   ]
  },
  {
   "cell_type": "code",
   "execution_count": 27,
   "metadata": {},
   "outputs": [
    {
     "data": {
      "text/plain": [
       "Text(0.5, 1.0, 'Kolmogorov-Smirnov')"
      ]
     },
     "execution_count": 27,
     "metadata": {},
     "output_type": "execute_result"
    },
    {
     "data": {
      "image/png": "[encoded data removed]",
      "text/plain": [
       "<Figure size 432x288 with 1 Axes>"
      ]
     },
     "metadata": {
      "needs_background": "light"
     },
     "output_type": "display_data"
    }
   ],
   "source": [
    "# Plot KS\n",
    "plt.plot(1-df_probs_threashold['y_hat_test_proba'], df_probs_threashold['Cumulative Perc Charge-off'], color = 'r')\n",
    "# We plot the predicted (estimated) probabilities along the x-axis and the cumulative percentage 'charge-off' along the y-axis,\n",
    "# colored in red.\n",
    "plt.plot(1-df_probs_threashold['y_hat_test_proba'], df_probs_threashold['Cumulative Perc Good'], color = 'b')\n",
    "# We plot the predicted (estimated) probabilities along the x-axis and the cumulative percentage 'good' along the y-axis,\n",
    "# colored in red.\n",
    "plt.xlabel('Estimated Probability for being Good')\n",
    "# We name the x-axis \"Estimated Probability for being Good\".\n",
    "plt.ylabel('Cumulative %')\n",
    "# We name the y-axis \"Cumulative %\".\n",
    "plt.title('Kolmogorov-Smirnov')\n",
    "# We name the graph \"Kolmogorov-Smirnov\"."
   ]
  },
  {
   "cell_type": "code",
   "execution_count": 28,
   "metadata": {},
   "outputs": [
    {
     "data": {
      "text/plain": [
       "0.28789144136845035"
      ]
     },
     "execution_count": 28,
     "metadata": {},
     "output_type": "execute_result"
    }
   ],
   "source": [
    "KS = max(df_probs_threashold['Cumulative Perc Charge-off'] - df_probs_threashold['Cumulative Perc Good'])\n",
    "KS"
   ]
  },
  {
   "cell_type": "markdown",
   "metadata": {},
   "source": [
    "### The lightGBM Classifie Performance Summeries\n",
    "- Random forest model has roc_ruc 0.683\n",
    "- The Gini coefficient is 0.365\n",
    "- The max diff in Kolmogrov-Smirnov curve is 0.287"
   ]
  },
  {
   "cell_type": "code",
   "execution_count": 30,
   "metadata": {},
   "outputs": [
    {
     "data": {
      "text/plain": [
       "0.28789144136845035"
      ]
     },
     "execution_count": 30,
     "metadata": {},
     "output_type": "execute_result"
    }
   ],
   "source": [
    "KS"
   ]
  },
  {
   "cell_type": "markdown",
   "metadata": {},
   "source": [
    "## False Positive Samples"
   ]
  },
  {
   "cell_type": "code",
   "execution_count": 31,
   "metadata": {},
   "outputs": [
    {
     "data": {
      "text/html": [
       "<div>\n",
       "<style scoped>\n",
       "    .dataframe tbody tr th:only-of-type {\n",
       "        vertical-align: middle;\n",
       "    }\n",
       "\n",
       "    .dataframe tbody tr th {\n",
       "        vertical-align: top;\n",
       "    }\n",
       "\n",
       "    .dataframe thead th {\n",
       "        text-align: right;\n",
       "    }\n",
       "</style>\n",
       "<table border=\"1\" class=\"dataframe\">\n",
       "  <thead>\n",
       "    <tr style=\"text-align: right;\">\n",
       "      <th></th>\n",
       "      <th>pub_rec_bankruptcies</th>\n",
       "      <th>dti</th>\n",
       "      <th>loan_amnt</th>\n",
       "      <th>annual_inc</th>\n",
       "      <th>loan_income_ratio</th>\n",
       "      <th>fico_range_low</th>\n",
       "      <th>fico_range_high</th>\n",
       "      <th>tax_liens_le</th>\n",
       "      <th>home_ownership_le</th>\n",
       "      <th>verification_status_le</th>\n",
       "      <th>emp_length_impute_num</th>\n",
       "      <th>emp_title_truncated_impute_le</th>\n",
       "      <th>zip_code_truncated_le</th>\n",
       "      <th>term_encode</th>\n",
       "      <th>purpose_le</th>\n",
       "    </tr>\n",
       "  </thead>\n",
       "  <tbody>\n",
       "    <tr>\n",
       "      <th>3509</th>\n",
       "      <td>0</td>\n",
       "      <td>28.57</td>\n",
       "      <td>10800</td>\n",
       "      <td>57000.0</td>\n",
       "      <td>0.189474</td>\n",
       "      <td>690</td>\n",
       "      <td>694</td>\n",
       "      <td>0</td>\n",
       "      <td>0</td>\n",
       "      <td>1</td>\n",
       "      <td>1</td>\n",
       "      <td>19</td>\n",
       "      <td>63</td>\n",
       "      <td>0</td>\n",
       "      <td>2</td>\n",
       "    </tr>\n",
       "    <tr>\n",
       "      <th>5714</th>\n",
       "      <td>0</td>\n",
       "      <td>19.61</td>\n",
       "      <td>11000</td>\n",
       "      <td>32500.0</td>\n",
       "      <td>0.338462</td>\n",
       "      <td>660</td>\n",
       "      <td>664</td>\n",
       "      <td>0</td>\n",
       "      <td>1</td>\n",
       "      <td>2</td>\n",
       "      <td>1</td>\n",
       "      <td>19</td>\n",
       "      <td>94</td>\n",
       "      <td>0</td>\n",
       "      <td>2</td>\n",
       "    </tr>\n",
       "    <tr>\n",
       "      <th>773</th>\n",
       "      <td>0</td>\n",
       "      <td>21.14</td>\n",
       "      <td>16000</td>\n",
       "      <td>50000.0</td>\n",
       "      <td>0.320000</td>\n",
       "      <td>685</td>\n",
       "      <td>689</td>\n",
       "      <td>0</td>\n",
       "      <td>0</td>\n",
       "      <td>2</td>\n",
       "      <td>1</td>\n",
       "      <td>19</td>\n",
       "      <td>69</td>\n",
       "      <td>1</td>\n",
       "      <td>2</td>\n",
       "    </tr>\n",
       "    <tr>\n",
       "      <th>3009</th>\n",
       "      <td>0</td>\n",
       "      <td>12.72</td>\n",
       "      <td>15000</td>\n",
       "      <td>85000.0</td>\n",
       "      <td>0.176471</td>\n",
       "      <td>765</td>\n",
       "      <td>769</td>\n",
       "      <td>0</td>\n",
       "      <td>2</td>\n",
       "      <td>2</td>\n",
       "      <td>10</td>\n",
       "      <td>19</td>\n",
       "      <td>45</td>\n",
       "      <td>0</td>\n",
       "      <td>2</td>\n",
       "    </tr>\n",
       "    <tr>\n",
       "      <th>6040</th>\n",
       "      <td>0</td>\n",
       "      <td>17.11</td>\n",
       "      <td>10000</td>\n",
       "      <td>92000.0</td>\n",
       "      <td>0.108696</td>\n",
       "      <td>730</td>\n",
       "      <td>734</td>\n",
       "      <td>0</td>\n",
       "      <td>0</td>\n",
       "      <td>0</td>\n",
       "      <td>5</td>\n",
       "      <td>19</td>\n",
       "      <td>94</td>\n",
       "      <td>0</td>\n",
       "      <td>10</td>\n",
       "    </tr>\n",
       "  </tbody>\n",
       "</table>\n",
       "</div>"
      ],
      "text/plain": [
       "      pub_rec_bankruptcies    dti  loan_amnt  annual_inc  loan_income_ratio  \\\n",
       "3509                     0  28.57      10800     57000.0           0.189474   \n",
       "5714                     0  19.61      11000     32500.0           0.338462   \n",
       "773                      0  21.14      16000     50000.0           0.320000   \n",
       "3009                     0  12.72      15000     85000.0           0.176471   \n",
       "6040                     0  17.11      10000     92000.0           0.108696   \n",
       "\n",
       "      fico_range_low  fico_range_high  tax_liens_le  home_ownership_le  \\\n",
       "3509             690              694             0                  0   \n",
       "5714             660              664             0                  1   \n",
       "773              685              689             0                  0   \n",
       "3009             765              769             0                  2   \n",
       "6040             730              734             0                  0   \n",
       "\n",
       "      verification_status_le  emp_length_impute_num  \\\n",
       "3509                       1                      1   \n",
       "5714                       2                      1   \n",
       "773                        2                      1   \n",
       "3009                       2                     10   \n",
       "6040                       0                      5   \n",
       "\n",
       "      emp_title_truncated_impute_le  zip_code_truncated_le  term_encode  \\\n",
       "3509                             19                     63            0   \n",
       "5714                             19                     94            0   \n",
       "773                              19                     69            1   \n",
       "3009                             19                     45            0   \n",
       "6040                             19                     94            0   \n",
       "\n",
       "      purpose_le  \n",
       "3509           2  \n",
       "5714           2  \n",
       "773            2  \n",
       "3009           2  \n",
       "6040          10  "
      ]
     },
     "execution_count": 31,
     "metadata": {},
     "output_type": "execute_result"
    }
   ],
   "source": [
    "X_test.head()"
   ]
  },
  {
   "cell_type": "code",
   "execution_count": 32,
   "metadata": {},
   "outputs": [
    {
     "data": {
      "text/plain": [
       "3509    0\n",
       "5714    0\n",
       "773     1\n",
       "3009    0\n",
       "6040    0\n",
       "Name: target, dtype: int64"
      ]
     },
     "execution_count": 32,
     "metadata": {},
     "output_type": "execute_result"
    }
   ],
   "source": [
    "y_test.head()"
   ]
  },
  {
   "cell_type": "code",
   "execution_count": 35,
   "metadata": {},
   "outputs": [],
   "source": [
    "# y_pred"
   ]
  },
  {
   "cell_type": "markdown",
   "metadata": {},
   "source": [
    "### Select the top 10% false positive "
   ]
  },
  {
   "cell_type": "code",
   "execution_count": 56,
   "metadata": {},
   "outputs": [],
   "source": [
    "test_predict_results_df = pd.DataFrame(y_test)"
   ]
  },
  {
   "cell_type": "code",
   "execution_count": 57,
   "metadata": {},
   "outputs": [
    {
     "data": {
      "text/plain": [
       "1318"
      ]
     },
     "execution_count": 57,
     "metadata": {},
     "output_type": "execute_result"
    }
   ],
   "source": [
    "len(test_predict_results_df)"
   ]
  },
  {
   "cell_type": "code",
   "execution_count": 58,
   "metadata": {},
   "outputs": [
    {
     "data": {
      "text/plain": [
       "1318"
      ]
     },
     "execution_count": 58,
     "metadata": {},
     "output_type": "execute_result"
    }
   ],
   "source": [
    "test_predict_results_df = test_predict_results_df.reset_index()\n",
    "len(test_predict_results_df)"
   ]
  },
  {
   "cell_type": "code",
   "execution_count": 59,
   "metadata": {},
   "outputs": [
    {
     "data": {
      "text/plain": [
       "1318"
      ]
     },
     "execution_count": 59,
     "metadata": {},
     "output_type": "execute_result"
    }
   ],
   "source": [
    "len(y_hat_test_proba)"
   ]
  },
  {
   "cell_type": "code",
   "execution_count": 60,
   "metadata": {},
   "outputs": [
    {
     "data": {
      "text/plain": [
       "1318"
      ]
     },
     "execution_count": 60,
     "metadata": {},
     "output_type": "execute_result"
    }
   ],
   "source": [
    "len(test_predict_results_df)"
   ]
  },
  {
   "cell_type": "code",
   "execution_count": 61,
   "metadata": {},
   "outputs": [
    {
     "data": {
      "text/html": [
       "<div>\n",
       "<style scoped>\n",
       "    .dataframe tbody tr th:only-of-type {\n",
       "        vertical-align: middle;\n",
       "    }\n",
       "\n",
       "    .dataframe tbody tr th {\n",
       "        vertical-align: top;\n",
       "    }\n",
       "\n",
       "    .dataframe thead th {\n",
       "        text-align: right;\n",
       "    }\n",
       "</style>\n",
       "<table border=\"1\" class=\"dataframe\">\n",
       "  <thead>\n",
       "    <tr style=\"text-align: right;\">\n",
       "      <th></th>\n",
       "      <th>0</th>\n",
       "      <th>1</th>\n",
       "      <th>2</th>\n",
       "    </tr>\n",
       "  </thead>\n",
       "  <tbody>\n",
       "    <tr>\n",
       "      <th>0</th>\n",
       "      <td>3509</td>\n",
       "      <td>0</td>\n",
       "      <td>0.168202</td>\n",
       "    </tr>\n",
       "    <tr>\n",
       "      <th>1</th>\n",
       "      <td>5714</td>\n",
       "      <td>0</td>\n",
       "      <td>0.257715</td>\n",
       "    </tr>\n",
       "    <tr>\n",
       "      <th>2</th>\n",
       "      <td>773</td>\n",
       "      <td>1</td>\n",
       "      <td>0.332991</td>\n",
       "    </tr>\n",
       "    <tr>\n",
       "      <th>3</th>\n",
       "      <td>3009</td>\n",
       "      <td>0</td>\n",
       "      <td>0.061937</td>\n",
       "    </tr>\n",
       "    <tr>\n",
       "      <th>4</th>\n",
       "      <td>6040</td>\n",
       "      <td>0</td>\n",
       "      <td>0.095382</td>\n",
       "    </tr>\n",
       "  </tbody>\n",
       "</table>\n",
       "</div>"
      ],
      "text/plain": [
       "      0  1         2\n",
       "0  3509  0  0.168202\n",
       "1  5714  0  0.257715\n",
       "2   773  1  0.332991\n",
       "3  3009  0  0.061937\n",
       "4  6040  0  0.095382"
      ]
     },
     "execution_count": 61,
     "metadata": {},
     "output_type": "execute_result"
    }
   ],
   "source": [
    "test_predict_results_df = pd.concat([test_predict_results_df,pd.DataFrame(y_hat_test_proba)],axis=1,ignore_index=True)\n",
    "test_predict_results_df.head()"
   ]
  },
  {
   "cell_type": "code",
   "execution_count": 62,
   "metadata": {},
   "outputs": [
    {
     "data": {
      "text/html": [
       "<div>\n",
       "<style scoped>\n",
       "    .dataframe tbody tr th:only-of-type {\n",
       "        vertical-align: middle;\n",
       "    }\n",
       "\n",
       "    .dataframe tbody tr th {\n",
       "        vertical-align: top;\n",
       "    }\n",
       "\n",
       "    .dataframe thead th {\n",
       "        text-align: right;\n",
       "    }\n",
       "</style>\n",
       "<table border=\"1\" class=\"dataframe\">\n",
       "  <thead>\n",
       "    <tr style=\"text-align: right;\">\n",
       "      <th></th>\n",
       "      <th>id</th>\n",
       "      <th>is_default</th>\n",
       "      <th>default_prob</th>\n",
       "    </tr>\n",
       "  </thead>\n",
       "  <tbody>\n",
       "    <tr>\n",
       "      <th>0</th>\n",
       "      <td>3509</td>\n",
       "      <td>0</td>\n",
       "      <td>0.168202</td>\n",
       "    </tr>\n",
       "    <tr>\n",
       "      <th>1</th>\n",
       "      <td>5714</td>\n",
       "      <td>0</td>\n",
       "      <td>0.257715</td>\n",
       "    </tr>\n",
       "    <tr>\n",
       "      <th>2</th>\n",
       "      <td>773</td>\n",
       "      <td>1</td>\n",
       "      <td>0.332991</td>\n",
       "    </tr>\n",
       "    <tr>\n",
       "      <th>3</th>\n",
       "      <td>3009</td>\n",
       "      <td>0</td>\n",
       "      <td>0.061937</td>\n",
       "    </tr>\n",
       "    <tr>\n",
       "      <th>4</th>\n",
       "      <td>6040</td>\n",
       "      <td>0</td>\n",
       "      <td>0.095382</td>\n",
       "    </tr>\n",
       "  </tbody>\n",
       "</table>\n",
       "</div>"
      ],
      "text/plain": [
       "     id  is_default  default_prob\n",
       "0  3509           0      0.168202\n",
       "1  5714           0      0.257715\n",
       "2   773           1      0.332991\n",
       "3  3009           0      0.061937\n",
       "4  6040           0      0.095382"
      ]
     },
     "execution_count": 62,
     "metadata": {},
     "output_type": "execute_result"
    }
   ],
   "source": [
    "test_predict_results_df.columns = ['id','is_default', 'default_prob']\n",
    "test_predict_results_df.head()"
   ]
  },
  {
   "cell_type": "code",
   "execution_count": 64,
   "metadata": {},
   "outputs": [],
   "source": [
    "default_rate_sort_df = test_predict_results_df.sort_values('default_prob', ascending=False)"
   ]
  },
  {
   "cell_type": "code",
   "execution_count": 68,
   "metadata": {},
   "outputs": [],
   "source": [
    "default_rate_sort_df['deault_prob_rank']  = default_rate_sort_df['default_prob'].rank(method='dense',ascending=False)"
   ]
  },
  {
   "cell_type": "code",
   "execution_count": 69,
   "metadata": {},
   "outputs": [
    {
     "data": {
      "text/html": [
       "<div>\n",
       "<style scoped>\n",
       "    .dataframe tbody tr th:only-of-type {\n",
       "        vertical-align: middle;\n",
       "    }\n",
       "\n",
       "    .dataframe tbody tr th {\n",
       "        vertical-align: top;\n",
       "    }\n",
       "\n",
       "    .dataframe thead th {\n",
       "        text-align: right;\n",
       "    }\n",
       "</style>\n",
       "<table border=\"1\" class=\"dataframe\">\n",
       "  <thead>\n",
       "    <tr style=\"text-align: right;\">\n",
       "      <th></th>\n",
       "      <th>id</th>\n",
       "      <th>is_default</th>\n",
       "      <th>default_prob</th>\n",
       "      <th>deault_prob_rank</th>\n",
       "    </tr>\n",
       "  </thead>\n",
       "  <tbody>\n",
       "    <tr>\n",
       "      <th>1299</th>\n",
       "      <td>249</td>\n",
       "      <td>0</td>\n",
       "      <td>0.472645</td>\n",
       "      <td>1.0</td>\n",
       "    </tr>\n",
       "    <tr>\n",
       "      <th>830</th>\n",
       "      <td>2499</td>\n",
       "      <td>1</td>\n",
       "      <td>0.430273</td>\n",
       "      <td>2.0</td>\n",
       "    </tr>\n",
       "    <tr>\n",
       "      <th>302</th>\n",
       "      <td>1525</td>\n",
       "      <td>1</td>\n",
       "      <td>0.429991</td>\n",
       "      <td>3.0</td>\n",
       "    </tr>\n",
       "    <tr>\n",
       "      <th>667</th>\n",
       "      <td>810</td>\n",
       "      <td>0</td>\n",
       "      <td>0.418277</td>\n",
       "      <td>4.0</td>\n",
       "    </tr>\n",
       "    <tr>\n",
       "      <th>895</th>\n",
       "      <td>6248</td>\n",
       "      <td>0</td>\n",
       "      <td>0.411712</td>\n",
       "      <td>5.0</td>\n",
       "    </tr>\n",
       "  </tbody>\n",
       "</table>\n",
       "</div>"
      ],
      "text/plain": [
       "        id  is_default  default_prob  deault_prob_rank\n",
       "1299   249           0      0.472645               1.0\n",
       "830   2499           1      0.430273               2.0\n",
       "302   1525           1      0.429991               3.0\n",
       "667    810           0      0.418277               4.0\n",
       "895   6248           0      0.411712               5.0"
      ]
     },
     "execution_count": 69,
     "metadata": {},
     "output_type": "execute_result"
    }
   ],
   "source": [
    "default_rate_sort_df.head()"
   ]
  },
  {
   "cell_type": "code",
   "execution_count": 89,
   "metadata": {},
   "outputs": [
    {
     "data": {
      "text/html": [
       "<div>\n",
       "<style scoped>\n",
       "    .dataframe tbody tr th:only-of-type {\n",
       "        vertical-align: middle;\n",
       "    }\n",
       "\n",
       "    .dataframe tbody tr th {\n",
       "        vertical-align: top;\n",
       "    }\n",
       "\n",
       "    .dataframe thead th {\n",
       "        text-align: right;\n",
       "    }\n",
       "</style>\n",
       "<table border=\"1\" class=\"dataframe\">\n",
       "  <thead>\n",
       "    <tr style=\"text-align: right;\">\n",
       "      <th></th>\n",
       "      <th>id</th>\n",
       "      <th>is_default</th>\n",
       "      <th>default_prob</th>\n",
       "      <th>deault_prob_rank</th>\n",
       "    </tr>\n",
       "  </thead>\n",
       "  <tbody>\n",
       "    <tr>\n",
       "      <th>1299</th>\n",
       "      <td>249</td>\n",
       "      <td>0</td>\n",
       "      <td>0.472645</td>\n",
       "      <td>1.0</td>\n",
       "    </tr>\n",
       "    <tr>\n",
       "      <th>667</th>\n",
       "      <td>810</td>\n",
       "      <td>0</td>\n",
       "      <td>0.418277</td>\n",
       "      <td>4.0</td>\n",
       "    </tr>\n",
       "    <tr>\n",
       "      <th>895</th>\n",
       "      <td>6248</td>\n",
       "      <td>0</td>\n",
       "      <td>0.411712</td>\n",
       "      <td>5.0</td>\n",
       "    </tr>\n",
       "    <tr>\n",
       "      <th>115</th>\n",
       "      <td>2093</td>\n",
       "      <td>0</td>\n",
       "      <td>0.409889</td>\n",
       "      <td>6.0</td>\n",
       "    </tr>\n",
       "    <tr>\n",
       "      <th>1271</th>\n",
       "      <td>3304</td>\n",
       "      <td>0</td>\n",
       "      <td>0.405994</td>\n",
       "      <td>7.0</td>\n",
       "    </tr>\n",
       "    <tr>\n",
       "      <th>1086</th>\n",
       "      <td>1190</td>\n",
       "      <td>0</td>\n",
       "      <td>0.400236</td>\n",
       "      <td>9.0</td>\n",
       "    </tr>\n",
       "    <tr>\n",
       "      <th>990</th>\n",
       "      <td>3299</td>\n",
       "      <td>0</td>\n",
       "      <td>0.396124</td>\n",
       "      <td>10.0</td>\n",
       "    </tr>\n",
       "    <tr>\n",
       "      <th>433</th>\n",
       "      <td>237</td>\n",
       "      <td>0</td>\n",
       "      <td>0.390919</td>\n",
       "      <td>11.0</td>\n",
       "    </tr>\n",
       "    <tr>\n",
       "      <th>6</th>\n",
       "      <td>2470</td>\n",
       "      <td>0</td>\n",
       "      <td>0.389587</td>\n",
       "      <td>12.0</td>\n",
       "    </tr>\n",
       "    <tr>\n",
       "      <th>738</th>\n",
       "      <td>2393</td>\n",
       "      <td>0</td>\n",
       "      <td>0.384972</td>\n",
       "      <td>14.0</td>\n",
       "    </tr>\n",
       "    <tr>\n",
       "      <th>1202</th>\n",
       "      <td>2494</td>\n",
       "      <td>0</td>\n",
       "      <td>0.381958</td>\n",
       "      <td>15.0</td>\n",
       "    </tr>\n",
       "    <tr>\n",
       "      <th>660</th>\n",
       "      <td>1405</td>\n",
       "      <td>0</td>\n",
       "      <td>0.380019</td>\n",
       "      <td>17.0</td>\n",
       "    </tr>\n",
       "    <tr>\n",
       "      <th>780</th>\n",
       "      <td>667</td>\n",
       "      <td>0</td>\n",
       "      <td>0.366766</td>\n",
       "      <td>20.0</td>\n",
       "    </tr>\n",
       "    <tr>\n",
       "      <th>1290</th>\n",
       "      <td>3679</td>\n",
       "      <td>0</td>\n",
       "      <td>0.365966</td>\n",
       "      <td>21.0</td>\n",
       "    </tr>\n",
       "    <tr>\n",
       "      <th>62</th>\n",
       "      <td>1278</td>\n",
       "      <td>0</td>\n",
       "      <td>0.361722</td>\n",
       "      <td>22.0</td>\n",
       "    </tr>\n",
       "    <tr>\n",
       "      <th>876</th>\n",
       "      <td>4819</td>\n",
       "      <td>0</td>\n",
       "      <td>0.359315</td>\n",
       "      <td>23.0</td>\n",
       "    </tr>\n",
       "    <tr>\n",
       "      <th>158</th>\n",
       "      <td>5645</td>\n",
       "      <td>0</td>\n",
       "      <td>0.357605</td>\n",
       "      <td>24.0</td>\n",
       "    </tr>\n",
       "    <tr>\n",
       "      <th>939</th>\n",
       "      <td>3106</td>\n",
       "      <td>0</td>\n",
       "      <td>0.352861</td>\n",
       "      <td>25.0</td>\n",
       "    </tr>\n",
       "    <tr>\n",
       "      <th>335</th>\n",
       "      <td>3388</td>\n",
       "      <td>0</td>\n",
       "      <td>0.352030</td>\n",
       "      <td>26.0</td>\n",
       "    </tr>\n",
       "    <tr>\n",
       "      <th>1240</th>\n",
       "      <td>3713</td>\n",
       "      <td>0</td>\n",
       "      <td>0.350567</td>\n",
       "      <td>29.0</td>\n",
       "    </tr>\n",
       "    <tr>\n",
       "      <th>868</th>\n",
       "      <td>3999</td>\n",
       "      <td>0</td>\n",
       "      <td>0.349172</td>\n",
       "      <td>31.0</td>\n",
       "    </tr>\n",
       "    <tr>\n",
       "      <th>80</th>\n",
       "      <td>2626</td>\n",
       "      <td>0</td>\n",
       "      <td>0.348936</td>\n",
       "      <td>33.0</td>\n",
       "    </tr>\n",
       "    <tr>\n",
       "      <th>1134</th>\n",
       "      <td>3553</td>\n",
       "      <td>0</td>\n",
       "      <td>0.347139</td>\n",
       "      <td>34.0</td>\n",
       "    </tr>\n",
       "    <tr>\n",
       "      <th>894</th>\n",
       "      <td>5592</td>\n",
       "      <td>0</td>\n",
       "      <td>0.346158</td>\n",
       "      <td>36.0</td>\n",
       "    </tr>\n",
       "    <tr>\n",
       "      <th>1305</th>\n",
       "      <td>4406</td>\n",
       "      <td>0</td>\n",
       "      <td>0.344447</td>\n",
       "      <td>37.0</td>\n",
       "    </tr>\n",
       "    <tr>\n",
       "      <th>366</th>\n",
       "      <td>70</td>\n",
       "      <td>0</td>\n",
       "      <td>0.344381</td>\n",
       "      <td>38.0</td>\n",
       "    </tr>\n",
       "    <tr>\n",
       "      <th>468</th>\n",
       "      <td>1695</td>\n",
       "      <td>0</td>\n",
       "      <td>0.343820</td>\n",
       "      <td>39.0</td>\n",
       "    </tr>\n",
       "    <tr>\n",
       "      <th>1034</th>\n",
       "      <td>636</td>\n",
       "      <td>0</td>\n",
       "      <td>0.341954</td>\n",
       "      <td>41.0</td>\n",
       "    </tr>\n",
       "    <tr>\n",
       "      <th>1119</th>\n",
       "      <td>3703</td>\n",
       "      <td>0</td>\n",
       "      <td>0.341147</td>\n",
       "      <td>43.0</td>\n",
       "    </tr>\n",
       "    <tr>\n",
       "      <th>387</th>\n",
       "      <td>817</td>\n",
       "      <td>0</td>\n",
       "      <td>0.340140</td>\n",
       "      <td>44.0</td>\n",
       "    </tr>\n",
       "    <tr>\n",
       "      <th>640</th>\n",
       "      <td>3828</td>\n",
       "      <td>0</td>\n",
       "      <td>0.340104</td>\n",
       "      <td>45.0</td>\n",
       "    </tr>\n",
       "    <tr>\n",
       "      <th>215</th>\n",
       "      <td>2182</td>\n",
       "      <td>0</td>\n",
       "      <td>0.336086</td>\n",
       "      <td>47.0</td>\n",
       "    </tr>\n",
       "    <tr>\n",
       "      <th>476</th>\n",
       "      <td>6117</td>\n",
       "      <td>0</td>\n",
       "      <td>0.334752</td>\n",
       "      <td>48.0</td>\n",
       "    </tr>\n",
       "    <tr>\n",
       "      <th>916</th>\n",
       "      <td>4301</td>\n",
       "      <td>0</td>\n",
       "      <td>0.333637</td>\n",
       "      <td>49.0</td>\n",
       "    </tr>\n",
       "    <tr>\n",
       "      <th>932</th>\n",
       "      <td>858</td>\n",
       "      <td>0</td>\n",
       "      <td>0.332614</td>\n",
       "      <td>51.0</td>\n",
       "    </tr>\n",
       "    <tr>\n",
       "      <th>133</th>\n",
       "      <td>5301</td>\n",
       "      <td>0</td>\n",
       "      <td>0.330989</td>\n",
       "      <td>54.0</td>\n",
       "    </tr>\n",
       "    <tr>\n",
       "      <th>427</th>\n",
       "      <td>6287</td>\n",
       "      <td>0</td>\n",
       "      <td>0.328402</td>\n",
       "      <td>55.0</td>\n",
       "    </tr>\n",
       "    <tr>\n",
       "      <th>1046</th>\n",
       "      <td>868</td>\n",
       "      <td>0</td>\n",
       "      <td>0.328278</td>\n",
       "      <td>56.0</td>\n",
       "    </tr>\n",
       "    <tr>\n",
       "      <th>1194</th>\n",
       "      <td>3648</td>\n",
       "      <td>0</td>\n",
       "      <td>0.327219</td>\n",
       "      <td>57.0</td>\n",
       "    </tr>\n",
       "    <tr>\n",
       "      <th>666</th>\n",
       "      <td>2354</td>\n",
       "      <td>0</td>\n",
       "      <td>0.327181</td>\n",
       "      <td>58.0</td>\n",
       "    </tr>\n",
       "    <tr>\n",
       "      <th>1067</th>\n",
       "      <td>347</td>\n",
       "      <td>0</td>\n",
       "      <td>0.326773</td>\n",
       "      <td>59.0</td>\n",
       "    </tr>\n",
       "    <tr>\n",
       "      <th>1246</th>\n",
       "      <td>4443</td>\n",
       "      <td>0</td>\n",
       "      <td>0.326670</td>\n",
       "      <td>60.0</td>\n",
       "    </tr>\n",
       "    <tr>\n",
       "      <th>179</th>\n",
       "      <td>6000</td>\n",
       "      <td>0</td>\n",
       "      <td>0.325300</td>\n",
       "      <td>63.0</td>\n",
       "    </tr>\n",
       "    <tr>\n",
       "      <th>1012</th>\n",
       "      <td>2311</td>\n",
       "      <td>0</td>\n",
       "      <td>0.324659</td>\n",
       "      <td>64.0</td>\n",
       "    </tr>\n",
       "    <tr>\n",
       "      <th>16</th>\n",
       "      <td>1592</td>\n",
       "      <td>0</td>\n",
       "      <td>0.324490</td>\n",
       "      <td>66.0</td>\n",
       "    </tr>\n",
       "    <tr>\n",
       "      <th>481</th>\n",
       "      <td>3793</td>\n",
       "      <td>0</td>\n",
       "      <td>0.324309</td>\n",
       "      <td>68.0</td>\n",
       "    </tr>\n",
       "    <tr>\n",
       "      <th>501</th>\n",
       "      <td>1300</td>\n",
       "      <td>0</td>\n",
       "      <td>0.324183</td>\n",
       "      <td>69.0</td>\n",
       "    </tr>\n",
       "    <tr>\n",
       "      <th>222</th>\n",
       "      <td>4565</td>\n",
       "      <td>0</td>\n",
       "      <td>0.321901</td>\n",
       "      <td>70.0</td>\n",
       "    </tr>\n",
       "    <tr>\n",
       "      <th>311</th>\n",
       "      <td>2988</td>\n",
       "      <td>0</td>\n",
       "      <td>0.321122</td>\n",
       "      <td>72.0</td>\n",
       "    </tr>\n",
       "    <tr>\n",
       "      <th>485</th>\n",
       "      <td>6085</td>\n",
       "      <td>0</td>\n",
       "      <td>0.320672</td>\n",
       "      <td>73.0</td>\n",
       "    </tr>\n",
       "  </tbody>\n",
       "</table>\n",
       "</div>"
      ],
      "text/plain": [
       "        id  is_default  default_prob  deault_prob_rank\n",
       "1299   249           0      0.472645               1.0\n",
       "667    810           0      0.418277               4.0\n",
       "895   6248           0      0.411712               5.0\n",
       "115   2093           0      0.409889               6.0\n",
       "1271  3304           0      0.405994               7.0\n",
       "1086  1190           0      0.400236               9.0\n",
       "990   3299           0      0.396124              10.0\n",
       "433    237           0      0.390919              11.0\n",
       "6     2470           0      0.389587              12.0\n",
       "738   2393           0      0.384972              14.0\n",
       "1202  2494           0      0.381958              15.0\n",
       "660   1405           0      0.380019              17.0\n",
       "780    667           0      0.366766              20.0\n",
       "1290  3679           0      0.365966              21.0\n",
       "62    1278           0      0.361722              22.0\n",
       "876   4819           0      0.359315              23.0\n",
       "158   5645           0      0.357605              24.0\n",
       "939   3106           0      0.352861              25.0\n",
       "335   3388           0      0.352030              26.0\n",
       "1240  3713           0      0.350567              29.0\n",
       "868   3999           0      0.349172              31.0\n",
       "80    2626           0      0.348936              33.0\n",
       "1134  3553           0      0.347139              34.0\n",
       "894   5592           0      0.346158              36.0\n",
       "1305  4406           0      0.344447              37.0\n",
       "366     70           0      0.344381              38.0\n",
       "468   1695           0      0.343820              39.0\n",
       "1034   636           0      0.341954              41.0\n",
       "1119  3703           0      0.341147              43.0\n",
       "387    817           0      0.340140              44.0\n",
       "640   3828           0      0.340104              45.0\n",
       "215   2182           0      0.336086              47.0\n",
       "476   6117           0      0.334752              48.0\n",
       "916   4301           0      0.333637              49.0\n",
       "932    858           0      0.332614              51.0\n",
       "133   5301           0      0.330989              54.0\n",
       "427   6287           0      0.328402              55.0\n",
       "1046   868           0      0.328278              56.0\n",
       "1194  3648           0      0.327219              57.0\n",
       "666   2354           0      0.327181              58.0\n",
       "1067   347           0      0.326773              59.0\n",
       "1246  4443           0      0.326670              60.0\n",
       "179   6000           0      0.325300              63.0\n",
       "1012  2311           0      0.324659              64.0\n",
       "16    1592           0      0.324490              66.0\n",
       "481   3793           0      0.324309              68.0\n",
       "501   1300           0      0.324183              69.0\n",
       "222   4565           0      0.321901              70.0\n",
       "311   2988           0      0.321122              72.0\n",
       "485   6085           0      0.320672              73.0"
      ]
     },
     "execution_count": 89,
     "metadata": {},
     "output_type": "execute_result"
    }
   ],
   "source": [
    "default_rate_sort_df[default_rate_sort_df['is_default']==0][:50]"
   ]
  },
  {
   "cell_type": "code",
   "execution_count": 90,
   "metadata": {},
   "outputs": [],
   "source": [
    "most_50_false_pos_id = default_rate_sort_df[default_rate_sort_df['is_default']==0][:50].id"
   ]
  },
  {
   "cell_type": "code",
   "execution_count": 91,
   "metadata": {},
   "outputs": [],
   "source": [
    "X_most_50_false_pos_df = X_test.loc[most_50_false_pos_id]"
   ]
  },
  {
   "cell_type": "code",
   "execution_count": 92,
   "metadata": {},
   "outputs": [
    {
     "name": "stderr",
     "output_type": "stream",
     "text": [
      "/opt/conda/lib/python3.7/site-packages/seaborn/distributions.py:369: UserWarning: Default bandwidth for data is 0; skipping density estimation.\n",
      "  warnings.warn(msg, UserWarning)\n"
     ]
    },
    {
     "data": {
      "text/plain": [
       "<matplotlib.axes._subplots.AxesSubplot at 0x7fd7e0266950>"
      ]
     },
     "execution_count": 92,
     "metadata": {},
     "output_type": "execute_result"
    },
    {
     "data": {
      "image/png": "[encoded data removed]",
      "text/plain": [
       "<Figure size 432x288 with 1 Axes>"
      ]
     },
     "metadata": {
      "needs_background": "light"
     },
     "output_type": "display_data"
    }
   ],
   "source": [
    "sns.distplot(X_most_50_false_pos_df['pub_rec_bankruptcies'])"
   ]
  },
  {
   "cell_type": "code",
   "execution_count": 93,
   "metadata": {},
   "outputs": [
    {
     "data": {
      "text/plain": [
       "<matplotlib.axes._subplots.AxesSubplot at 0x7fd7e01e6910>"
      ]
     },
     "execution_count": 93,
     "metadata": {},
     "output_type": "execute_result"
    },
    {
     "data": {
      "image/png": "[encoded data removed]",
      "text/plain": [
       "<Figure size 432x288 with 1 Axes>"
      ]
     },
     "metadata": {
      "needs_background": "light"
     },
     "output_type": "display_data"
    }
   ],
   "source": [
    "sns.distplot(X_most_50_false_pos_df['dti'])"
   ]
  },
  {
   "cell_type": "code",
   "execution_count": null,
   "metadata": {},
   "outputs": [],
   "source": [
    "sns.distplot(X_most_50_false_pos_df['dti'])"
   ]
  },
  {
   "cell_type": "code",
   "execution_count": 109,
   "metadata": {},
   "outputs": [
    {
     "data": {
      "image/png": "[encoded data removed]",
      "text/plain": [
       "<Figure size 432x288 with 1 Axes>"
      ]
     },
     "metadata": {
      "needs_background": "light"
     },
     "output_type": "display_data"
    }
   ],
   "source": [
    "x = X_most_50_false_pos_df['dti']\n",
    "y = X_test['dti']\n",
    "fig, ax = plt.subplots()\n",
    "for a in [x, y]:\n",
    "    sns.distplot(a, ax=ax)"
   ]
  },
  {
   "cell_type": "code",
   "execution_count": 94,
   "metadata": {},
   "outputs": [
    {
     "data": {
      "text/plain": [
       "<matplotlib.axes._subplots.AxesSubplot at 0x7fd7e01dc4d0>"
      ]
     },
     "execution_count": 94,
     "metadata": {},
     "output_type": "execute_result"
    },
    {
     "data": {
      "image/png": "[encoded data removed]",
      "text/plain": [
       "<Figure size 432x288 with 1 Axes>"
      ]
     },
     "metadata": {
      "needs_background": "light"
     },
     "output_type": "display_data"
    }
   ],
   "source": [
    "sns.distplot(X_most_50_false_pos_df['loan_amnt'])"
   ]
  },
  {
   "cell_type": "code",
   "execution_count": 110,
   "metadata": {},
   "outputs": [
    {
     "data": {
      "image/png": "[encoded data removed]",
      "text/plain": [
       "<Figure size 432x288 with 1 Axes>"
      ]
     },
     "metadata": {
      "needs_background": "light"
     },
     "output_type": "display_data"
    }
   ],
   "source": [
    "x = X_most_50_false_pos_df['loan_amnt']\n",
    "y = X_test['loan_amnt']\n",
    "fig, ax = plt.subplots()\n",
    "for a in [x, y]:\n",
    "    sns.distplot(a, ax=ax)"
   ]
  },
  {
   "cell_type": "code",
   "execution_count": 95,
   "metadata": {},
   "outputs": [
    {
     "data": {
      "text/plain": [
       "<matplotlib.axes._subplots.AxesSubplot at 0x7fd7e14c2210>"
      ]
     },
     "execution_count": 95,
     "metadata": {},
     "output_type": "execute_result"
    },
    {
     "data": {
      "image/png": "[encoded data removed]",
      "text/plain": [
       "<Figure size 432x288 with 1 Axes>"
      ]
     },
     "metadata": {
      "needs_background": "light"
     },
     "output_type": "display_data"
    }
   ],
   "source": [
    "\n",
    "sns.distplot(X_most_50_false_pos_df['annual_inc'])"
   ]
  },
  {
   "cell_type": "code",
   "execution_count": 111,
   "metadata": {},
   "outputs": [
    {
     "data": {
      "image/png": "[encoded data removed]",
      "text/plain": [
       "<Figure size 432x288 with 1 Axes>"
      ]
     },
     "metadata": {
      "needs_background": "light"
     },
     "output_type": "display_data"
    }
   ],
   "source": [
    "x = X_most_50_false_pos_df['annual_inc']\n",
    "y = X_test['annual_inc']\n",
    "fig, ax = plt.subplots()\n",
    "for a in [x, y]:\n",
    "    sns.distplot(a, ax=ax)"
   ]
  },
  {
   "cell_type": "code",
   "execution_count": 96,
   "metadata": {},
   "outputs": [
    {
     "data": {
      "text/plain": [
       "<matplotlib.axes._subplots.AxesSubplot at 0x7fd7e0111850>"
      ]
     },
     "execution_count": 96,
     "metadata": {},
     "output_type": "execute_result"
    },
    {
     "data": {
      "image/png": "[encoded data removed]",
      "text/plain": [
       "<Figure size 432x288 with 1 Axes>"
      ]
     },
     "metadata": {
      "needs_background": "light"
     },
     "output_type": "display_data"
    }
   ],
   "source": [
    "sns.distplot(X_most_50_false_pos_df['loan_income_ratio'])"
   ]
  },
  {
   "cell_type": "code",
   "execution_count": 112,
   "metadata": {},
   "outputs": [
    {
     "data": {
      "image/png": "[encoded data removed]",
      "text/plain": [
       "<Figure size 432x288 with 1 Axes>"
      ]
     },
     "metadata": {
      "needs_background": "light"
     },
     "output_type": "display_data"
    }
   ],
   "source": [
    "x = X_most_50_false_pos_df['loan_income_ratio']\n",
    "y = X_test['loan_income_ratio']\n",
    "fig, ax = plt.subplots()\n",
    "for a in [x, y]:\n",
    "    sns.distplot(a, ax=ax)"
   ]
  },
  {
   "cell_type": "code",
   "execution_count": 97,
   "metadata": {},
   "outputs": [
    {
     "data": {
      "text/plain": [
       "<matplotlib.axes._subplots.AxesSubplot at 0x7fd7e008ee50>"
      ]
     },
     "execution_count": 97,
     "metadata": {},
     "output_type": "execute_result"
    },
    {
     "data": {
      "image/png": "[encoded data removed]",
      "text/plain": [
       "<Figure size 432x288 with 1 Axes>"
      ]
     },
     "metadata": {
      "needs_background": "light"
     },
     "output_type": "display_data"
    }
   ],
   "source": [
    "\n",
    "sns.distplot(X_most_50_false_pos_df['fico_range_low'])"
   ]
  },
  {
   "cell_type": "code",
   "execution_count": 113,
   "metadata": {},
   "outputs": [
    {
     "data": {
      "image/png": "[encoded data removed]",
      "text/plain": [
       "<Figure size 432x288 with 1 Axes>"
      ]
     },
     "metadata": {
      "needs_background": "light"
     },
     "output_type": "display_data"
    }
   ],
   "source": [
    "x = X_most_50_false_pos_df['fico_range_low']\n",
    "y = X_test['fico_range_low']\n",
    "fig, ax = plt.subplots()\n",
    "for a in [x, y]:\n",
    "    sns.distplot(a, ax=ax)"
   ]
  },
  {
   "cell_type": "code",
   "execution_count": 98,
   "metadata": {},
   "outputs": [
    {
     "data": {
      "text/plain": [
       "<matplotlib.axes._subplots.AxesSubplot at 0x7fd7d2fc0a50>"
      ]
     },
     "execution_count": 98,
     "metadata": {},
     "output_type": "execute_result"
    },
    {
     "data": {
      "image/png": "[encoded data removed]",
      "text/plain": [
       "<Figure size 432x288 with 1 Axes>"
      ]
     },
     "metadata": {
      "needs_background": "light"
     },
     "output_type": "display_data"
    }
   ],
   "source": [
    "sns.distplot(X_most_50_false_pos_df['fico_range_high'])"
   ]
  },
  {
   "cell_type": "code",
   "execution_count": 114,
   "metadata": {},
   "outputs": [
    {
     "data": {
      "image/png": "[encoded data removed]",
      "text/plain": [
       "<Figure size 432x288 with 1 Axes>"
      ]
     },
     "metadata": {
      "needs_background": "light"
     },
     "output_type": "display_data"
    }
   ],
   "source": [
    "x = X_most_50_false_pos_df['fico_range_high']\n",
    "y = X_test['fico_range_high']\n",
    "fig, ax = plt.subplots()\n",
    "for a in [x, y]:\n",
    "    sns.distplot(a, ax=ax)"
   ]
  },
  {
   "cell_type": "code",
   "execution_count": 99,
   "metadata": {},
   "outputs": [
    {
     "name": "stderr",
     "output_type": "stream",
     "text": [
      "/opt/conda/lib/python3.7/site-packages/seaborn/distributions.py:283: UserWarning: Data must have variance to compute a kernel density estimate.\n",
      "  warnings.warn(msg, UserWarning)\n"
     ]
    },
    {
     "data": {
      "text/plain": [
       "<matplotlib.axes._subplots.AxesSubplot at 0x7fd7d2fa2610>"
      ]
     },
     "execution_count": 99,
     "metadata": {},
     "output_type": "execute_result"
    },
    {
     "data": {
      "image/png": "[encoded data removed]",
      "text/plain": [
       "<Figure size 432x288 with 1 Axes>"
      ]
     },
     "metadata": {
      "needs_background": "light"
     },
     "output_type": "display_data"
    }
   ],
   "source": [
    "sns.distplot(X_most_50_false_pos_df['tax_liens_le'])"
   ]
  },
  {
   "cell_type": "code",
   "execution_count": 115,
   "metadata": {},
   "outputs": [
    {
     "name": "stderr",
     "output_type": "stream",
     "text": [
      "/opt/conda/lib/python3.7/site-packages/seaborn/distributions.py:283: UserWarning: Data must have variance to compute a kernel density estimate.\n",
      "  warnings.warn(msg, UserWarning)\n",
      "/opt/conda/lib/python3.7/site-packages/seaborn/distributions.py:369: UserWarning: Default bandwidth for data is 0; skipping density estimation.\n",
      "  warnings.warn(msg, UserWarning)\n"
     ]
    },
    {
     "data": {
      "image/png": "[encoded data removed]",
      "text/plain": [
       "<Figure size 432x288 with 1 Axes>"
      ]
     },
     "metadata": {
      "needs_background": "light"
     },
     "output_type": "display_data"
    }
   ],
   "source": [
    "x = X_most_50_false_pos_df['tax_liens_le']\n",
    "y = X_test['tax_liens_le']\n",
    "fig, ax = plt.subplots()\n",
    "for a in [x, y]:\n",
    "    sns.distplot(a, ax=ax)"
   ]
  },
  {
   "cell_type": "code",
   "execution_count": 100,
   "metadata": {},
   "outputs": [
    {
     "data": {
      "text/plain": [
       "<matplotlib.axes._subplots.AxesSubplot at 0x7fd7d2ec3e50>"
      ]
     },
     "execution_count": 100,
     "metadata": {},
     "output_type": "execute_result"
    },
    {
     "data": {
      "image/png": "[encoded data removed]",
      "text/plain": [
       "<Figure size 432x288 with 1 Axes>"
      ]
     },
     "metadata": {
      "needs_background": "light"
     },
     "output_type": "display_data"
    }
   ],
   "source": [
    "sns.distplot(X_most_50_false_pos_df['verification_status_le'])"
   ]
  },
  {
   "cell_type": "code",
   "execution_count": 116,
   "metadata": {},
   "outputs": [
    {
     "data": {
      "image/png": "[encoded data removed]",
      "text/plain": [
       "<Figure size 432x288 with 1 Axes>"
      ]
     },
     "metadata": {
      "needs_background": "light"
     },
     "output_type": "display_data"
    }
   ],
   "source": [
    "x = X_most_50_false_pos_df['verification_status_le']\n",
    "y = X_test['verification_status_le']\n",
    "fig, ax = plt.subplots()\n",
    "for a in [x, y]:\n",
    "    sns.distplot(a, ax=ax)"
   ]
  },
  {
   "cell_type": "code",
   "execution_count": 102,
   "metadata": {},
   "outputs": [
    {
     "data": {
      "text/plain": [
       "<matplotlib.axes._subplots.AxesSubplot at 0x7fd7d2ec33d0>"
      ]
     },
     "execution_count": 102,
     "metadata": {},
     "output_type": "execute_result"
    },
    {
     "data": {
      "image/png": "[encoded data removed]",
      "text/plain": [
       "<Figure size 432x288 with 1 Axes>"
      ]
     },
     "metadata": {
      "needs_background": "light"
     },
     "output_type": "display_data"
    }
   ],
   "source": [
    "sns.distplot(X_most_50_false_pos_df[X_most_50_false_pos_df['emp_length_impute_num']>=0].emp_length_impute_num)"
   ]
  },
  {
   "cell_type": "code",
   "execution_count": 118,
   "metadata": {},
   "outputs": [
    {
     "data": {
      "image/png": "[encoded data removed]",
      "text/plain": [
       "<Figure size 432x288 with 1 Axes>"
      ]
     },
     "metadata": {
      "needs_background": "light"
     },
     "output_type": "display_data"
    }
   ],
   "source": [
    "x = X_most_50_false_pos_df[X_most_50_false_pos_df['emp_length_impute_num']>=0].emp_length_impute_num\n",
    "y = X_test[X_test['emp_length_impute_num']>=0].emp_length_impute_num\n",
    "fig, ax = plt.subplots()\n",
    "for a in [x, y]:\n",
    "    sns.distplot(a, ax=ax)"
   ]
  },
  {
   "cell_type": "code",
   "execution_count": 103,
   "metadata": {},
   "outputs": [
    {
     "name": "stderr",
     "output_type": "stream",
     "text": [
      "/opt/conda/lib/python3.7/site-packages/seaborn/distributions.py:369: UserWarning: Default bandwidth for data is 0; skipping density estimation.\n",
      "  warnings.warn(msg, UserWarning)\n"
     ]
    },
    {
     "data": {
      "text/plain": [
       "<matplotlib.axes._subplots.AxesSubplot at 0x7fd7d2d70590>"
      ]
     },
     "execution_count": 103,
     "metadata": {},
     "output_type": "execute_result"
    },
    {
     "data": {
      "image/png": "[encoded data removed]",
      "text/plain": [
       "<Figure size 432x288 with 1 Axes>"
      ]
     },
     "metadata": {
      "needs_background": "light"
     },
     "output_type": "display_data"
    }
   ],
   "source": [
    "sns.distplot(X_most_50_false_pos_df[X_most_50_false_pos_df['emp_title_truncated_impute_le']>=0].emp_title_truncated_impute_le)"
   ]
  },
  {
   "cell_type": "code",
   "execution_count": 119,
   "metadata": {},
   "outputs": [
    {
     "name": "stderr",
     "output_type": "stream",
     "text": [
      "/opt/conda/lib/python3.7/site-packages/seaborn/distributions.py:369: UserWarning: Default bandwidth for data is 0; skipping density estimation.\n",
      "  warnings.warn(msg, UserWarning)\n",
      "/opt/conda/lib/python3.7/site-packages/seaborn/distributions.py:369: UserWarning: Default bandwidth for data is 0; skipping density estimation.\n",
      "  warnings.warn(msg, UserWarning)\n"
     ]
    },
    {
     "data": {
      "image/png": "[encoded data removed]",
      "text/plain": [
       "<Figure size 432x288 with 1 Axes>"
      ]
     },
     "metadata": {
      "needs_background": "light"
     },
     "output_type": "display_data"
    }
   ],
   "source": [
    "x = X_most_50_false_pos_df[X_most_50_false_pos_df['emp_title_truncated_impute_le']>=0].emp_title_truncated_impute_le\n",
    "y = X_test[X_test['emp_title_truncated_impute_le']>=0].emp_title_truncated_impute_le\n",
    "fig, ax = plt.subplots()\n",
    "for a in [x, y]:\n",
    "    sns.distplot(a, ax=ax)"
   ]
  },
  {
   "cell_type": "code",
   "execution_count": 104,
   "metadata": {},
   "outputs": [
    {
     "data": {
      "text/plain": [
       "<matplotlib.axes._subplots.AxesSubplot at 0x7fd7d2c884d0>"
      ]
     },
     "execution_count": 104,
     "metadata": {},
     "output_type": "execute_result"
    },
    {
     "data": {
      "image/png": "[encoded data removed]",
      "text/plain": [
       "<Figure size 432x288 with 1 Axes>"
      ]
     },
     "metadata": {
      "needs_background": "light"
     },
     "output_type": "display_data"
    }
   ],
   "source": [
    "\n",
    "sns.distplot(X_most_50_false_pos_df[X_most_50_false_pos_df['zip_code_truncated_le']>=0].zip_code_truncated_le)"
   ]
  },
  {
   "cell_type": "code",
   "execution_count": 120,
   "metadata": {},
   "outputs": [
    {
     "data": {
      "image/png": "[encoded data removed]",
      "text/plain": [
       "<Figure size 432x288 with 1 Axes>"
      ]
     },
     "metadata": {
      "needs_background": "light"
     },
     "output_type": "display_data"
    }
   ],
   "source": [
    "x = X_most_50_false_pos_df[X_most_50_false_pos_df['zip_code_truncated_le']>=0].zip_code_truncated_le\n",
    "y = X_test[X_test['zip_code_truncated_le']>=0].zip_code_truncated_le\n",
    "fig, ax = plt.subplots()\n",
    "for a in [x, y]:\n",
    "    sns.distplot(a, ax=ax)"
   ]
  },
  {
   "cell_type": "code",
   "execution_count": 105,
   "metadata": {},
   "outputs": [
    {
     "name": "stderr",
     "output_type": "stream",
     "text": [
      "/opt/conda/lib/python3.7/site-packages/seaborn/distributions.py:283: UserWarning: Data must have variance to compute a kernel density estimate.\n",
      "  warnings.warn(msg, UserWarning)\n"
     ]
    },
    {
     "data": {
      "text/plain": [
       "<matplotlib.axes._subplots.AxesSubplot at 0x7fd7d2c7bf90>"
      ]
     },
     "execution_count": 105,
     "metadata": {},
     "output_type": "execute_result"
    },
    {
     "data": {
      "image/png": "[encoded data removed]",
      "text/plain": [
       "<Figure size 432x288 with 1 Axes>"
      ]
     },
     "metadata": {
      "needs_background": "light"
     },
     "output_type": "display_data"
    }
   ],
   "source": [
    "sns.distplot(X_most_50_false_pos_df[X_most_50_false_pos_df['term_encode']>=0].term_encode)"
   ]
  },
  {
   "cell_type": "code",
   "execution_count": 106,
   "metadata": {},
   "outputs": [
    {
     "name": "stderr",
     "output_type": "stream",
     "text": [
      "/opt/conda/lib/python3.7/site-packages/seaborn/distributions.py:369: UserWarning: Default bandwidth for data is 0; skipping density estimation.\n",
      "  warnings.warn(msg, UserWarning)\n"
     ]
    },
    {
     "data": {
      "text/plain": [
       "<matplotlib.axes._subplots.AxesSubplot at 0x7fd7d2bcd850>"
      ]
     },
     "execution_count": 106,
     "metadata": {},
     "output_type": "execute_result"
    },
    {
     "data": {
      "image/png": "[encoded data removed]",
      "text/plain": [
       "<Figure size 432x288 with 1 Axes>"
      ]
     },
     "metadata": {
      "needs_background": "light"
     },
     "output_type": "display_data"
    }
   ],
   "source": [
    "\n",
    "sns.distplot(X_most_50_false_pos_df[X_most_50_false_pos_df['purpose_le']>=0].purpose_le)"
   ]
  },
  {
   "cell_type": "code",
   "execution_count": 121,
   "metadata": {},
   "outputs": [
    {
     "name": "stderr",
     "output_type": "stream",
     "text": [
      "/opt/conda/lib/python3.7/site-packages/seaborn/distributions.py:369: UserWarning: Default bandwidth for data is 0; skipping density estimation.\n",
      "  warnings.warn(msg, UserWarning)\n"
     ]
    },
    {
     "data": {
      "image/png": "[encoded data removed]",
      "text/plain": [
       "<Figure size 432x288 with 1 Axes>"
      ]
     },
     "metadata": {
      "needs_background": "light"
     },
     "output_type": "display_data"
    }
   ],
   "source": [
    "x = X_most_50_false_pos_df[X_most_50_false_pos_df['purpose_le']>=0].purpose_le\n",
    "y = X_test[X_test['purpose_le']>=0].purpose_le\n",
    "fig, ax = plt.subplots()\n",
    "for a in [x, y]:\n",
    "    sns.distplot(a, ax=ax)"
   ]
  },
  {
   "cell_type": "code",
   "execution_count": null,
   "metadata": {},
   "outputs": [],
   "source": []
  }
 ],
 "metadata": {
  "environment": {
   "name": "tf2-gpu.2-1.m46",
   "type": "gcloud",
   "uri": "gcr.io/deeplearning-platform-release/tf2-gpu.2-1:m46"
  },
  "kernelspec": {
   "display_name": "Python 3",
   "language": "python",
   "name": "python3"
  },
  "language_info": {
   "codemirror_mode": {
    "name": "ipython",
    "version": 3
   },
   "file_extension": ".py",
   "mimetype": "text/x-python",
   "name": "python",
   "nbconvert_exporter": "python",
   "pygments_lexer": "ipython3",
   "version": "3.7.6"
  }
 },
 "nbformat": 4,
 "nbformat_minor": 4
}
