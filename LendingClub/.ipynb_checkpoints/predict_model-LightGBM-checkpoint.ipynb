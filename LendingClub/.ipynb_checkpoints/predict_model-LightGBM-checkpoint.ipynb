{
 "cells": [
  {
   "cell_type": "markdown",
   "metadata": {},
   "source": [
    "## LightGBM Pediction Model"
   ]
  },
  {
   "cell_type": "code",
   "execution_count": 1,
   "metadata": {},
   "outputs": [],
   "source": [
    "import pandas as pd\n",
    "import numpy as np\n",
    "import seaborn as sns\n",
    "import matplotlib.pylab as plt\n",
    "from sklearn import preprocessing, pipeline, metrics, model_selection\n",
    "from sklearn.model_selection import GridSearchCV\n",
    "\n",
    "pd.options.display.max_columns = 999\n",
    "pd.options.display.max_colwidth = 100\n",
    "sns.set_style(\"white\")\n",
    "%matplotlib inline"
   ]
  },
  {
   "cell_type": "code",
   "execution_count": 2,
   "metadata": {},
   "outputs": [
    {
     "name": "stderr",
     "output_type": "stream",
     "text": [
      "/opt/conda/lib/python3.7/site-packages/IPython/core/interactiveshell.py:3063: DtypeWarning: Columns (130,131,132,135,136,137,140) have mixed types.Specify dtype option on import or set low_memory=False.\n",
      "  interactivity=interactivity, compiler=compiler, result=result)\n"
     ]
    }
   ],
   "source": [
    "# read input \n",
    "full_concat_df = pd.read_csv(\"df_to_RF_model.csv\")"
   ]
  },
  {
   "cell_type": "code",
   "execution_count": 3,
   "metadata": {},
   "outputs": [
    {
     "data": {
      "text/plain": [
       "2011    3232\n",
       "Name: issue_d_year, dtype: int64"
      ]
     },
     "execution_count": 3,
     "metadata": {},
     "output_type": "execute_result"
    }
   ],
   "source": [
    "#check \n",
    "full_concat_df[full_concat_df['table']=='a'].issue_d_year.value_counts()"
   ]
  },
  {
   "cell_type": "code",
   "execution_count": 4,
   "metadata": {},
   "outputs": [
    {
     "data": {
      "text/plain": [
       "2013    3354\n",
       "Name: issue_d_year, dtype: int64"
      ]
     },
     "execution_count": 4,
     "metadata": {},
     "output_type": "execute_result"
    }
   ],
   "source": [
    "full_concat_df[full_concat_df['table']=='b'].issue_d_year.value_counts()"
   ]
  },
  {
   "cell_type": "markdown",
   "metadata": {},
   "source": [
    "### Encode loan_status as target"
   ]
  },
  {
   "cell_type": "code",
   "execution_count": 5,
   "metadata": {},
   "outputs": [],
   "source": [
    "full_concat_df['target'] = full_concat_df['loan_status'].apply(lambda x: 1 if x == 'Charged Off' else 0)"
   ]
  },
  {
   "cell_type": "code",
   "execution_count": 6,
   "metadata": {},
   "outputs": [
    {
     "data": {
      "text/plain": [
       "0    5494\n",
       "1    1092\n",
       "Name: target, dtype: int64"
      ]
     },
     "execution_count": 6,
     "metadata": {},
     "output_type": "execute_result"
    }
   ],
   "source": [
    "full_concat_df['target'].value_counts()"
   ]
  },
  {
   "cell_type": "code",
   "execution_count": 7,
   "metadata": {},
   "outputs": [],
   "source": [
    "encode_vars = ['tax_liens_le', 'home_ownership_le','verification_status_le','emp_length_impute_num', \n",
    "               'emp_title_truncated_impute_le','zip_code_truncated_le','term_encode', 'purpose_le']\n",
    "\n",
    "num_vars = ['pub_rec_bankruptcies','dti','loan_amnt', 'annual_inc' ,'loan_income_ratio','fico_range_low','fico_range_high']\n",
    "\n",
    "\n",
    "\n"
   ]
  },
  {
   "cell_type": "code",
   "execution_count": 8,
   "metadata": {},
   "outputs": [],
   "source": [
    "predict_features = num_vars + encode_vars"
   ]
  },
  {
   "cell_type": "markdown",
   "metadata": {},
   "source": [
    "### Encode loan_status as target"
   ]
  },
  {
   "cell_type": "code",
   "execution_count": 9,
   "metadata": {},
   "outputs": [],
   "source": [
    "predict_features = num_vars + encode_vars"
   ]
  },
  {
   "cell_type": "code",
   "execution_count": 10,
   "metadata": {},
   "outputs": [],
   "source": [
    "from sklearn.datasets import make_classification\n",
    "from sklearn.model_selection import cross_val_score,cross_validate\n",
    "from sklearn.model_selection import RepeatedStratifiedKFold\n",
    "from sklearn.ensemble import RandomForestClassifier\n",
    "from sklearn.metrics import confusion_matrix\n",
    "from sklearn.model_selection import train_test_split\n",
    "np.random.seed(4684)\n",
    "\n",
    "#split into train and test to avoid overfitting\n",
    "train_df = full_concat_df\n",
    "# train_df = full_concat_df\n",
    "\n",
    "X_train, X_test, y_train, y_test = train_test_split(full_concat_df[predict_features], full_concat_df['target'], stratify=full_concat_df['target'], test_size=0.2, random_state=42)\n"
   ]
  },
  {
   "cell_type": "code",
   "execution_count": 11,
   "metadata": {},
   "outputs": [
    {
     "data": {
      "text/plain": [
       "((5268, 15), (5268,))"
      ]
     },
     "execution_count": 11,
     "metadata": {},
     "output_type": "execute_result"
    }
   ],
   "source": [
    "X_train.shape, y_train.shape"
   ]
  },
  {
   "cell_type": "markdown",
   "metadata": {},
   "source": [
    "Grid search"
   ]
  },
  {
   "cell_type": "code",
   "execution_count": 13,
   "metadata": {},
   "outputs": [
    {
     "name": "stdout",
     "output_type": "stream",
     "text": [
      "\n",
      " Tuning parameter feature_fraction in [0.1, 0.3, 0.5, 0.7, 0.9]\n",
      "\n",
      "    feature_fraction: 0.1\n",
      ", best_score: 0.434911, best_iteration: 88\n",
      "\n",
      "    feature_fraction: 0.3\n",
      ", best_score: 0.431121, best_iteration: 66\n",
      "\n",
      "    feature_fraction: 0.5\n",
      ", best_score: 0.427188, best_iteration: 48\n",
      "\n",
      "    feature_fraction: 0.7\n",
      ", best_score: 0.426883, best_iteration: 42\n",
      "\n",
      "    feature_fraction: 0.9\n",
      ", best_score: 0.427244, best_iteration: 35\n",
      "Best feature_fraction is 0.7 with a score of 0.426883\n",
      "\n",
      " Tuning parameter num_leaves in [3, 7, 15, 31, 63, 127]\n",
      "\n",
      "    num_leaves: 3\n",
      ", best_score: 0.423427, best_iteration: 127\n",
      "\n",
      "    num_leaves: 7\n",
      ", best_score: 0.424723, best_iteration: 85\n",
      "\n",
      "    num_leaves: 15\n",
      ", best_score: 0.425591, best_iteration: 60\n",
      "\n",
      "    num_leaves: 31\n",
      ", best_score: 0.426883, best_iteration: 42\n",
      "\n",
      "    num_leaves: 63\n",
      ", best_score: 0.430378, best_iteration: 28\n",
      "\n",
      "    num_leaves: 127\n",
      ", best_score: 0.431851, best_iteration: 29\n",
      "Best num_leaves is 3 with a score of 0.423427\n",
      "\n",
      " Tuning parameter max_depth in [3, 7, 10, 15, 31, -1]\n",
      "\n",
      "    max_depth: 3\n",
      ", best_score: 0.423427, best_iteration: 127\n",
      "\n",
      "    max_depth: 7\n",
      ", best_score: 0.423427, best_iteration: 127\n",
      "\n",
      "    max_depth: 10\n",
      ", best_score: 0.423427, best_iteration: 127\n",
      "\n",
      "    max_depth: 15\n",
      ", best_score: 0.423427, best_iteration: 127\n",
      "\n",
      "    max_depth: 31\n",
      ", best_score: 0.423427, best_iteration: 127\n",
      "\n",
      "    max_depth: -1\n",
      ", best_score: 0.423427, best_iteration: 127\n",
      "Best max_depth is 3 with a score of 0.423427\n",
      "\n",
      " Tuning parameter min_gain_to_split in [0, 0.1, 0.3, 1, 1.5, 2, 3]\n",
      "\n",
      "    min_gain_to_split: 0\n",
      ", best_score: 0.423427, best_iteration: 127\n",
      "\n",
      "    min_gain_to_split: 0.1\n",
      ", best_score: 0.423427, best_iteration: 127\n",
      "\n",
      "    min_gain_to_split: 0.3\n",
      ", best_score: 0.423427, best_iteration: 127\n",
      "\n",
      "    min_gain_to_split: 1\n",
      ", best_score: 0.423415, best_iteration: 143\n",
      "\n",
      "    min_gain_to_split: 1.5\n",
      ", best_score: 0.423415, best_iteration: 143\n",
      "\n",
      "    min_gain_to_split: 2\n",
      ", best_score: 0.423501, best_iteration: 124\n",
      "\n",
      "    min_gain_to_split: 3\n",
      ", best_score: 0.423689, best_iteration: 108\n",
      "Best min_gain_to_split is 1 with a score of 0.423415\n",
      "\n",
      " Tuning parameter bagging_fraction in [0.2, 0.4, 0.6, 0.8, 1]\n",
      "\n",
      "    bagging_fraction: 0.2\n",
      ", best_score: 0.422925, best_iteration: 225\n",
      "\n",
      "    bagging_fraction: 0.4\n",
      ", best_score: 0.422426, best_iteration: 169\n",
      "\n",
      "    bagging_fraction: 0.6\n",
      ", best_score: 0.422198, best_iteration: 162\n",
      "\n",
      "    bagging_fraction: 0.8\n",
      ", best_score: 0.422709, best_iteration: 147\n",
      "\n",
      "    bagging_fraction: 1\n",
      ", best_score: 0.423415, best_iteration: 143\n",
      "Best bagging_fraction is 0.6 with a score of 0.422198\n",
      "\n",
      " Tuning parameter min_sum_hessian_in_leaf in [0, 0.0001, 0.001, 0.1, 1, 3, 10]\n",
      "\n",
      "    min_sum_hessian_in_leaf: 0\n",
      ", best_score: 0.422198, best_iteration: 162\n",
      "\n",
      "    min_sum_hessian_in_leaf: 0.0001\n",
      ", best_score: 0.422198, best_iteration: 162\n",
      "\n",
      "    min_sum_hessian_in_leaf: 0.001\n",
      ", best_score: 0.422198, best_iteration: 162\n",
      "\n",
      "    min_sum_hessian_in_leaf: 0.1\n",
      ", best_score: 0.422198, best_iteration: 162\n",
      "\n",
      "    min_sum_hessian_in_leaf: 1\n",
      ", best_score: 0.422198, best_iteration: 162\n",
      "\n",
      "    min_sum_hessian_in_leaf: 3\n",
      ", best_score: 0.422419, best_iteration: 162\n",
      "\n",
      "    min_sum_hessian_in_leaf: 10\n",
      ", best_score: 0.422215, best_iteration: 173\n",
      "Best min_sum_hessian_in_leaf is 0 with a score of 0.422198\n",
      "\n",
      " Tuning parameter lambda_l2 in [0, 0.01, 0.1, 1, 10, 100]\n",
      "\n",
      "    lambda_l2: 0\n",
      ", best_score: 0.422198, best_iteration: 162\n",
      "\n",
      "    lambda_l2: 0.01\n",
      ", best_score: 0.422191, best_iteration: 162\n",
      "\n",
      "    lambda_l2: 0.1\n",
      ", best_score: 0.422560, best_iteration: 162\n",
      "\n",
      "    lambda_l2: 1\n",
      ", best_score: 0.422091, best_iteration: 172\n",
      "\n",
      "    lambda_l2: 10\n",
      ", best_score: 0.421769, best_iteration: 237\n",
      "\n",
      "    lambda_l2: 100\n",
      ", best_score: 0.422573, best_iteration: 326\n",
      "Best lambda_l2 is 10 with a score of 0.421769\n",
      "\n",
      " Tuning parameter lambda_l1 in [0, 0.01, 0.1, 1, 10]\n",
      "\n",
      "    lambda_l1: 0\n",
      ", best_score: 0.421769, best_iteration: 237\n",
      "\n",
      "    lambda_l1: 0.01\n",
      ", best_score: 0.421822, best_iteration: 237\n",
      "\n",
      "    lambda_l1: 0.1\n",
      ", best_score: 0.421850, best_iteration: 189\n",
      "\n",
      "    lambda_l1: 1\n",
      ", best_score: 0.421904, best_iteration: 237\n",
      "\n",
      "    lambda_l1: 10\n",
      ", best_score: 0.424890, best_iteration: 118\n",
      "Best lambda_l1 is 0 with a score of 0.421769\n",
      "\n",
      " Best manually tuned parameters: {'objective': 'binary', 'learning_rate': 0.05, 'metric': 'binary_logloss', 'bagging_freq': 1, 'seed': 1234, 'feature_fraction': 0.7, 'num_leaves': 3, 'max_depth': 3, 'min_gain_to_split': 1, 'bagging_fraction': 0.6, 'min_sum_hessian_in_leaf': 0, 'lambda_l2': 10, 'lambda_l1': 0}\n"
     ]
    }
   ],
   "source": [
    "import lightgbm as lgb\n",
    "import copy\n",
    "greater_is_better = False\n",
    "\n",
    "lgb_metric = 'binary_logloss'\n",
    "default_lgb_params = {}\n",
    "default_lgb_params[\"objective\"] = \"binary\"\n",
    "default_lgb_params[\"learning_rate\"] = 0.05\n",
    "default_lgb_params[\"metric\"] = lgb_metric\n",
    "default_lgb_params[\"bagging_freq\"] = 1\n",
    "default_lgb_params[\"seed\"] = 1234\n",
    "\n",
    "params_lgb_space = {}\n",
    "params_lgb_space['feature_fraction'] = [0.1, 0.3, 0.5, 0.7, 0.9]\n",
    "params_lgb_space['num_leaves'] = [3, 7, 15, 31, 63, 127]\n",
    "params_lgb_space['max_depth'] = [3, 7, 10, 15, 31, -1]\n",
    "params_lgb_space['min_gain_to_split'] = [0, 0.1, 0.3, 1, 1.5, 2, 3]\n",
    "params_lgb_space['bagging_fraction'] = [0.2, 0.4, 0.6, 0.8, 1]\n",
    "params_lgb_space['min_sum_hessian_in_leaf'] = [0, 0.0001, 0.001, 0.1, 1, 3, 10]\n",
    "params_lgb_space['lambda_l2'] = [0, 0.01, 0.1, 1, 10, 100]\n",
    "params_lgb_space['lambda_l1'] = [0, 0.01, 0.1, 1, 10]\n",
    "\n",
    "\n",
    "best_lgb_params = copy.copy(default_lgb_params)\n",
    "\n",
    "for p in params_lgb_space:\n",
    "    print (\"\\n Tuning parameter %s in %s\" % (p, params_lgb_space[p]))\n",
    "\n",
    "    params = best_lgb_params\n",
    "    scores = []    \n",
    "    for v in params_lgb_space[p]:\n",
    "        print ('\\n    %s: %s' % (p, v), end=\"\\n\")\n",
    "        params[p] = v\n",
    "        lgb_cv = lgb.cv(params,\n",
    "                lgb.Dataset(X_train,\n",
    "                            label=y_train\n",
    "                            ),\n",
    "                num_boost_round=100000,\n",
    "                nfold=5,\n",
    "                stratified=False,\n",
    "                early_stopping_rounds=50,\n",
    "                verbose_eval=False)\n",
    "        if greater_is_better:\n",
    "            best_lgb_score = min(lgb_cv['%s-mean' % (lgb_metric)])\n",
    "        else:\n",
    "            best_lgb_score = min(lgb_cv['%s-mean' % (lgb_metric)])\n",
    "        best_lgb_iteration = len(lgb_cv['%s-mean' % (lgb_metric)])\n",
    "        print (', best_score: %f, best_iteration: %d' % (best_lgb_score, best_lgb_iteration))\n",
    "        scores.append([v, best_lgb_score])\n",
    "    # best param value in the space\n",
    "    best_param_value = sorted(scores, key=lambda x:x[1],reverse=greater_is_better)[0][0]\n",
    "    best_param_score = sorted(scores, key=lambda x:x[1],reverse=greater_is_better)[0][1]\n",
    "    best_lgb_params[p] = best_param_value\n",
    "    print (\"Best %s is %s with a score of %f\" %(p, best_param_value, best_param_score))\n",
    "\n",
    "print ('\\n Best manually tuned parameters:', best_lgb_params)    "
   ]
  },
  {
   "cell_type": "code",
   "execution_count": 14,
   "metadata": {},
   "outputs": [
    {
     "name": "stdout",
     "output_type": "stream",
     "text": [
      "\n",
      " Best manually tuned parameters: {'objective': 'binary', 'learning_rate': 0.05, 'metric': 'binary_logloss', 'bagging_freq': 1, 'seed': 1234, 'feature_fraction': 0.7, 'num_leaves': 3, 'max_depth': 3, 'min_gain_to_split': 1, 'bagging_fraction': 0.6, 'min_sum_hessian_in_leaf': 0, 'lambda_l2': 10, 'lambda_l1': 0}\n"
     ]
    }
   ],
   "source": [
    "print ('\\n Best manually tuned parameters:', best_lgb_params)    "
   ]
  },
  {
   "cell_type": "code",
   "execution_count": 15,
   "metadata": {},
   "outputs": [],
   "source": [
    "model = lgb.train(best_lgb_params,\n",
    "                  lgb.Dataset(X_train,\n",
    "                              label=y_train\n",
    "                              ),\n",
    "                  num_boost_round=best_lgb_iteration)\n",
    "y_pred_prob = model.predict(X_test)\n"
   ]
  },
  {
   "cell_type": "markdown",
   "metadata": {},
   "source": [
    "### LightGBM Prediction and Performance Evaluation "
   ]
  },
  {
   "cell_type": "markdown",
   "metadata": {},
   "source": [
    "Confusion matrix"
   ]
  },
  {
   "cell_type": "code",
   "execution_count": 16,
   "metadata": {},
   "outputs": [],
   "source": [
    "y_pred = []\n",
    "for i in range(len(y_pred_prob)):\n",
    "    if y_pred_prob[i]>=0.2:      \n",
    "       y_pred.append(1)\n",
    "    else:  \n",
    "       y_pred.append(0)"
   ]
  },
  {
   "cell_type": "code",
   "execution_count": 17,
   "metadata": {},
   "outputs": [
    {
     "data": {
      "text/html": [
       "<div>\n",
       "<style scoped>\n",
       "    .dataframe tbody tr th:only-of-type {\n",
       "        vertical-align: middle;\n",
       "    }\n",
       "\n",
       "    .dataframe tbody tr th {\n",
       "        vertical-align: top;\n",
       "    }\n",
       "\n",
       "    .dataframe thead th {\n",
       "        text-align: right;\n",
       "    }\n",
       "</style>\n",
       "<table border=\"1\" class=\"dataframe\">\n",
       "  <thead>\n",
       "    <tr style=\"text-align: right;\">\n",
       "      <th></th>\n",
       "      <th>Predicted Not charge-off</th>\n",
       "      <th>Predicted Charge-off</th>\n",
       "    </tr>\n",
       "  </thead>\n",
       "  <tbody>\n",
       "    <tr>\n",
       "      <th>Not Chargeoff</th>\n",
       "      <td>799</td>\n",
       "      <td>300</td>\n",
       "    </tr>\n",
       "    <tr>\n",
       "      <th>Charge-off</th>\n",
       "      <td>105</td>\n",
       "      <td>114</td>\n",
       "    </tr>\n",
       "  </tbody>\n",
       "</table>\n",
       "</div>"
      ],
      "text/plain": [
       "               Predicted Not charge-off  Predicted Charge-off\n",
       "Not Chargeoff                       799                   300\n",
       "Charge-off                          105                   114"
      ]
     },
     "execution_count": 17,
     "metadata": {},
     "output_type": "execute_result"
    }
   ],
   "source": [
    "confusion_matrix(y_test, y_pred)\n",
    "pd_confusion_matrix = pd.DataFrame(data = confusion_matrix(y_test, y_pred), columns=['Predicted Not charge-off', 'Predicted Charge-off'], index=['Not Chargeoff', 'Charge-off'])\n",
    "pd_confusion_matrix"
   ]
  },
  {
   "cell_type": "markdown",
   "metadata": {},
   "source": [
    "Grid serach to find the optimal hyperparameters"
   ]
  },
  {
   "cell_type": "markdown",
   "metadata": {},
   "source": [
    "roc_auc score "
   ]
  },
  {
   "cell_type": "code",
   "execution_count": 18,
   "metadata": {},
   "outputs": [
    {
     "name": "stdout",
     "output_type": "stream",
     "text": [
      "No Skill: ROC AUC=0.500\n",
      "Logistic: ROC AUC=0.683\n"
     ]
    },
    {
     "data": {
      "image/png": "[encoded data removed]",
      "text/plain": [
       "<Figure size 432x288 with 1 Axes>"
      ]
     },
     "metadata": {
      "needs_background": "light"
     },
     "output_type": "display_data"
    }
   ],
   "source": [
    "from sklearn.metrics import roc_auc_score\n",
    "from sklearn.metrics import roc_curve\n",
    "import matplotlib.pylab as plt\n",
    "\n",
    "# generate a no skill prediction (majority class)\n",
    "ns_probs = [0 for _ in range(len(y_test))]\n",
    "# fit a model\n",
    "# predict probabilities\n",
    "# keep probabilities for the positive outcome only\n",
    "# calculate scores\n",
    "ns_auc = roc_auc_score(y_test, ns_probs)\n",
    "gbm_auc = roc_auc_score(y_test, y_pred_prob)\n",
    "# summarize scores\n",
    "print('No Skill: ROC AUC=%.3f' % (ns_auc))\n",
    "print('Logistic: ROC AUC=%.3f' % (gbm_auc))\n",
    "# calculate roc curves\n",
    "ns_fpr, ns_tpr, _ = roc_curve(y_test, ns_probs)\n",
    "gbm_fpr, gbm_tpr, _ = roc_curve(y_test, y_pred_prob)\n",
    "# plot the roc curve for the mode\n",
    "plt.plot(ns_fpr, ns_tpr, linestyle='--', label='No Skill')\n",
    "plt.plot(gbm_fpr, gbm_tpr, marker='.', label='lightGBM')\n",
    "# axis labels\n",
    "plt.xlabel('False Positive Rate')\n",
    "plt.ylabel('True Positive Rate')\n",
    "# show the legend\n",
    "plt.legend()\n",
    "# show the plot\n",
    "plt.show()"
   ]
  },
  {
   "cell_type": "markdown",
   "metadata": {},
   "source": [
    "gini coefficient and kolmogorov-smirnov are common used in credit-risk industry"
   ]
  },
  {
   "cell_type": "code",
   "execution_count": 19,
   "metadata": {},
   "outputs": [],
   "source": [
    "y_hat_test_proba = model.predict(X_test)"
   ]
  },
  {
   "cell_type": "code",
   "execution_count": 20,
   "metadata": {},
   "outputs": [],
   "source": [
    "y_hat_test_proba_char_off = y_hat_test_proba"
   ]
  },
  {
   "cell_type": "code",
   "execution_count": 21,
   "metadata": {},
   "outputs": [],
   "source": [
    "df_test_y = pd.DataFrame(y_test)\n",
    "df_test_y.reset_index(drop = True, inplace = True)"
   ]
  },
  {
   "cell_type": "code",
   "execution_count": 22,
   "metadata": {},
   "outputs": [],
   "source": [
    "df_t_test_prob = pd.DataFrame(y_hat_test_proba_char_off)"
   ]
  },
  {
   "cell_type": "code",
   "execution_count": 23,
   "metadata": {},
   "outputs": [],
   "source": [
    "df_actual_predicted_probs = pd.concat([df_test_y, df_t_test_prob], axis = 1,ignore_index=False)\n"
   ]
  },
  {
   "cell_type": "code",
   "execution_count": 24,
   "metadata": {},
   "outputs": [],
   "source": [
    "df_actual_predicted_probs.index = X_test.index"
   ]
  },
  {
   "cell_type": "code",
   "execution_count": 25,
   "metadata": {},
   "outputs": [],
   "source": [
    "\n",
    "df_actual_predicted_probs.columns = ['loan_data_targets_test', 'y_hat_test_proba']"
   ]
  },
  {
   "cell_type": "code",
   "execution_count": 26,
   "metadata": {},
   "outputs": [],
   "source": [
    "df_probs_threashold = df_actual_predicted_probs.sort_values('y_hat_test_proba',ascending=False)\n"
   ]
  },
  {
   "cell_type": "code",
   "execution_count": 27,
   "metadata": {},
   "outputs": [],
   "source": [
    "df_probs_threashold = df_probs_threashold.reset_index(drop=True)"
   ]
  },
  {
   "cell_type": "code",
   "execution_count": 28,
   "metadata": {},
   "outputs": [],
   "source": [
    "# check the prob_threashold of charge-off\n",
    "\n",
    "df_probs_threashold['Cumulative N Population'] = df_probs_threashold.index + 1\n",
    "# We calculate the cumulative number of all observations.\n",
    "# We use the new index for that. Since indexing in ython starts from 0, we add 1 to each index.\n",
    "df_probs_threashold['Cumulative N Charge-off'] = df_probs_threashold['loan_data_targets_test'].cumsum()\n",
    "# We calculate cumulative number of 'good', which is the cumulative sum of the column with actual observations.\n",
    "df_probs_threashold['Cumulative N Good'] = df_probs_threashold['Cumulative N Population'] - df_probs_threashold['loan_data_targets_test'].cumsum()\n",
    "\n"
   ]
  },
  {
   "cell_type": "code",
   "execution_count": 29,
   "metadata": {},
   "outputs": [],
   "source": [
    "df_probs_threashold['Cumulative Perc Population'] = df_probs_threashold['Cumulative N Population'] / (df_probs_threashold.shape[0])\n",
    "# We calculate the cumulative percentage of all observations.\n",
    "df_probs_threashold['Cumulative Perc Charge-off'] = df_probs_threashold['Cumulative N Charge-off'] / df_probs_threashold['loan_data_targets_test'].sum()\n",
    "# We calculate cumulative percentage of 'good'.\n",
    "df_probs_threashold['Cumulative Perc Good'] = df_probs_threashold['Cumulative N Good'] / (df_probs_threashold.shape[0] - df_probs_threashold['loan_data_targets_test'].sum())\n",
    "# We calculate the cumulative percentage of 'bad'."
   ]
  },
  {
   "cell_type": "code",
   "execution_count": 30,
   "metadata": {},
   "outputs": [
    {
     "data": {
      "text/plain": [
       "Text(0.5, 1.0, 'Gini')"
      ]
     },
     "execution_count": 30,
     "metadata": {},
     "output_type": "execute_result"
    },
    {
     "data": {
      "image/png": "[encoded data removed]",
      "text/plain": [
       "<Figure size 432x288 with 1 Axes>"
      ]
     },
     "metadata": {
      "needs_background": "light"
     },
     "output_type": "display_data"
    }
   ],
   "source": [
    "# Plot Gini\n",
    "plt.plot(df_probs_threashold['Cumulative Perc Population'], df_probs_threashold['Cumulative Perc Charge-off'])\n",
    "# We plot the cumulative percentage of all along the x-axis and the cumulative percentage 'good' along the y-axis,\n",
    "# thus plotting the Gini curve.\n",
    "plt.plot(df_probs_threashold['Cumulative Perc Population'], df_probs_threashold['Cumulative Perc Population'], linestyle = '--', color = 'k')\n",
    "# We plot a seconary diagonal line, with dashed line style and black color.\n",
    "plt.xlabel('Cumulative % Population')\n",
    "# We name the x-axis \"Cumulative % Population\".\n",
    "plt.ylabel('Cumulative % Charge-off')\n",
    "# We name the y-axis \"Cumulative % Bad\".\n",
    "plt.title('Gini')\n",
    "# We name the graph \"Gini\"."
   ]
  },
  {
   "cell_type": "code",
   "execution_count": 31,
   "metadata": {},
   "outputs": [
    {
     "data": {
      "text/plain": [
       "0.36554194140792173"
      ]
     },
     "execution_count": 31,
     "metadata": {},
     "output_type": "execute_result"
    }
   ],
   "source": [
    "gini_coef = 2*gbm_auc-1\n",
    "gini_coef"
   ]
  },
  {
   "cell_type": "code",
   "execution_count": 32,
   "metadata": {},
   "outputs": [
    {
     "data": {
      "text/plain": [
       "Text(0.5, 1.0, 'Kolmogorov-Smirnov')"
      ]
     },
     "execution_count": 32,
     "metadata": {},
     "output_type": "execute_result"
    },
    {
     "data": {
      "image/png": "[encoded data removed]",
      "text/plain": [
       "<Figure size 432x288 with 1 Axes>"
      ]
     },
     "metadata": {
      "needs_background": "light"
     },
     "output_type": "display_data"
    }
   ],
   "source": [
    "# Plot KS\n",
    "plt.plot(1-df_probs_threashold['y_hat_test_proba'], df_probs_threashold['Cumulative Perc Charge-off'], color = 'r')\n",
    "# We plot the predicted (estimated) probabilities along the x-axis and the cumulative percentage 'charge-off' along the y-axis,\n",
    "# colored in red.\n",
    "plt.plot(1-df_probs_threashold['y_hat_test_proba'], df_probs_threashold['Cumulative Perc Good'], color = 'b')\n",
    "# We plot the predicted (estimated) probabilities along the x-axis and the cumulative percentage 'good' along the y-axis,\n",
    "# colored in red.\n",
    "plt.xlabel('Estimated Probability for being Good')\n",
    "# We name the x-axis \"Estimated Probability for being Good\".\n",
    "plt.ylabel('Cumulative %')\n",
    "# We name the y-axis \"Cumulative %\".\n",
    "plt.title('Kolmogorov-Smirnov')\n",
    "# We name the graph \"Kolmogorov-Smirnov\"."
   ]
  },
  {
   "cell_type": "code",
   "execution_count": 33,
   "metadata": {},
   "outputs": [
    {
     "data": {
      "text/plain": [
       "0.28789144136845035"
      ]
     },
     "execution_count": 33,
     "metadata": {},
     "output_type": "execute_result"
    }
   ],
   "source": [
    "KS = max(df_probs_threashold['Cumulative Perc Charge-off'] - df_probs_threashold['Cumulative Perc Good'])\n",
    "KS"
   ]
  },
  {
   "cell_type": "markdown",
   "metadata": {},
   "source": [
    "### The lightGBM Classifie Performance Summeries\n",
    "- Random forest model has roc_ruc 0.683\n",
    "- The Gini coefficient is 0.365\n",
    "- The max diff in Kolmogrov-Smirnov curve is 0.287"
   ]
  }
 ],
 "metadata": {
  "environment": {
   "name": "tf2-gpu.2-1.m46",
   "type": "gcloud",
   "uri": "gcr.io/deeplearning-platform-release/tf2-gpu.2-1:m46"
  },
  "kernelspec": {
   "display_name": "Python 3",
   "language": "python",
   "name": "python3"
  },
  "language_info": {
   "codemirror_mode": {
    "name": "ipython",
    "version": 3
   },
   "file_extension": ".py",
   "mimetype": "text/x-python",
   "name": "python",
   "nbconvert_exporter": "python",
   "pygments_lexer": "ipython3",
   "version": "3.7.6"
  }
 },
 "nbformat": 4,
 "nbformat_minor": 4
}
