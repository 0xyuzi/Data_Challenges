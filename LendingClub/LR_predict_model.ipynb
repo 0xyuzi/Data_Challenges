{
 "cells": [
  {
   "cell_type": "markdown",
   "metadata": {},
   "source": [
    "## Lorgistic Regression Prediction Model"
   ]
  },
  {
   "cell_type": "code",
   "execution_count": 1,
   "metadata": {},
   "outputs": [],
   "source": [
    "import pandas as pd\n",
    "import numpy as np\n",
    "import seaborn as sns\n",
    "import matplotlib.pylab as plt\n",
    "from sklearn import preprocessing, pipeline, metrics, model_selection\n",
    "from sklearn.model_selection import GridSearchCV\n",
    "\n",
    "pd.options.display.max_columns = 999\n",
    "pd.options.display.max_colwidth = 100 \n",
    "sns.set_style(\"white\")\n",
    "%matplotlib inline"
   ]
  },
  {
   "cell_type": "code",
   "execution_count": 2,
   "metadata": {},
   "outputs": [],
   "source": [
    "# read input \n",
    "full_concat_df = pd.read_csv(\"features_lr_model.csv\", index_col=[0])"
   ]
  },
  {
   "cell_type": "markdown",
   "metadata": {},
   "source": [
    "fico_range_high_bin var induced the singular matrix. so not used for lr prediciton"
   ]
  },
  {
   "cell_type": "code",
   "execution_count": 3,
   "metadata": {},
   "outputs": [],
   "source": [
    "select_vars= [ \n",
    "'tax_liens_le_0',\n",
    " 'tax_liens_le_1',\n",
    " 'tax_liens_le_2',\n",
    " 'tax_liens_le_3',\n",
    " 'tax_liens_le_4',\n",
    " 'home_ownership_le_0',\n",
    " 'home_ownership_le_1',\n",
    "'verification_status_le_0',\n",
    " 'verification_status_le_1',\n",
    " 'emp_length_impute_num_-999',\n",
    " 'emp_length_impute_num_1',\n",
    " 'emp_length_impute_num_2',\n",
    " 'emp_length_impute_num_3',\n",
    " 'emp_length_impute_num_4',\n",
    " 'emp_length_impute_num_5',\n",
    " 'emp_length_impute_num_6',\n",
    " 'emp_length_impute_num_7',\n",
    " 'emp_length_impute_num_8',\n",
    " 'emp_length_impute_num_9',\n",
    "    'emp_title_truncated_impute_le_0',\n",
    " 'emp_title_truncated_impute_le_1',\n",
    " 'emp_title_truncated_impute_le_2',\n",
    " 'emp_title_truncated_impute_le_3',\n",
    " 'emp_title_truncated_impute_le_4',\n",
    " 'emp_title_truncated_impute_le_5',\n",
    " 'emp_title_truncated_impute_le_6',\n",
    " 'emp_title_truncated_impute_le_7',\n",
    " 'emp_title_truncated_impute_le_8',\n",
    " 'emp_title_truncated_impute_le_9',\n",
    " 'emp_title_truncated_impute_le_10',\n",
    " 'emp_title_truncated_impute_le_11',\n",
    " 'emp_title_truncated_impute_le_12',\n",
    " 'emp_title_truncated_impute_le_13',\n",
    " 'emp_title_truncated_impute_le_14',\n",
    " 'emp_title_truncated_impute_le_15',\n",
    " 'emp_title_truncated_impute_le_16',\n",
    " 'emp_title_truncated_impute_le_17',\n",
    " 'emp_title_truncated_impute_le_18',\n",
    "     'zip_code_truncated_le_0',\n",
    " 'zip_code_truncated_le_1',\n",
    " 'zip_code_truncated_le_2',\n",
    " 'zip_code_truncated_le_3',\n",
    " 'zip_code_truncated_le_4',\n",
    " 'zip_code_truncated_le_5',\n",
    " 'zip_code_truncated_le_6',\n",
    " 'zip_code_truncated_le_7',\n",
    " 'zip_code_truncated_le_8',\n",
    " 'zip_code_truncated_le_9',\n",
    " 'zip_code_truncated_le_10',\n",
    " 'zip_code_truncated_le_11',\n",
    " 'zip_code_truncated_le_12',\n",
    " 'zip_code_truncated_le_13',\n",
    " 'zip_code_truncated_le_14',\n",
    " 'zip_code_truncated_le_15',\n",
    " 'zip_code_truncated_le_16',\n",
    " 'zip_code_truncated_le_17',\n",
    " 'zip_code_truncated_le_18',\n",
    " 'zip_code_truncated_le_19',\n",
    " 'zip_code_truncated_le_20',\n",
    " 'zip_code_truncated_le_21',\n",
    " 'zip_code_truncated_le_22',\n",
    " 'zip_code_truncated_le_23',\n",
    " 'zip_code_truncated_le_24',\n",
    " 'zip_code_truncated_le_25',\n",
    " 'zip_code_truncated_le_26',\n",
    " 'zip_code_truncated_le_27',\n",
    " 'zip_code_truncated_le_28',\n",
    " 'zip_code_truncated_le_29',\n",
    " 'zip_code_truncated_le_30',\n",
    " 'zip_code_truncated_le_31',\n",
    " 'zip_code_truncated_le_32',\n",
    " 'zip_code_truncated_le_33',\n",
    " 'zip_code_truncated_le_34',\n",
    " 'zip_code_truncated_le_35',\n",
    " 'zip_code_truncated_le_36',\n",
    " 'zip_code_truncated_le_37',\n",
    " 'zip_code_truncated_le_38',\n",
    " 'zip_code_truncated_le_39',\n",
    " 'zip_code_truncated_le_40',\n",
    " 'zip_code_truncated_le_41',\n",
    " 'zip_code_truncated_le_42',\n",
    " 'zip_code_truncated_le_43',\n",
    " 'zip_code_truncated_le_44',\n",
    " 'zip_code_truncated_le_45',\n",
    " 'zip_code_truncated_le_46',\n",
    " 'zip_code_truncated_le_47',\n",
    " 'zip_code_truncated_le_48',\n",
    " 'zip_code_truncated_le_49',\n",
    " 'zip_code_truncated_le_50',\n",
    " 'zip_code_truncated_le_51',\n",
    " 'zip_code_truncated_le_52',\n",
    " 'zip_code_truncated_le_53',\n",
    " 'zip_code_truncated_le_54',\n",
    " 'zip_code_truncated_le_55',\n",
    " 'zip_code_truncated_le_56',\n",
    " 'zip_code_truncated_le_57',\n",
    " 'zip_code_truncated_le_58',\n",
    " 'zip_code_truncated_le_59',\n",
    " 'zip_code_truncated_le_60',\n",
    " 'zip_code_truncated_le_61',\n",
    " 'zip_code_truncated_le_62',\n",
    " 'zip_code_truncated_le_63',\n",
    " 'zip_code_truncated_le_64',\n",
    " 'zip_code_truncated_le_65',\n",
    " 'zip_code_truncated_le_66',\n",
    " 'zip_code_truncated_le_67',\n",
    " 'zip_code_truncated_le_68',\n",
    " 'zip_code_truncated_le_69',\n",
    " 'zip_code_truncated_le_70',\n",
    " 'zip_code_truncated_le_71',\n",
    " 'zip_code_truncated_le_72',\n",
    " 'zip_code_truncated_le_73',\n",
    " 'zip_code_truncated_le_74',\n",
    " 'zip_code_truncated_le_75',\n",
    " 'zip_code_truncated_le_76',\n",
    " 'zip_code_truncated_le_77',\n",
    " 'zip_code_truncated_le_78',\n",
    " 'zip_code_truncated_le_79',\n",
    " 'zip_code_truncated_le_80',\n",
    " 'zip_code_truncated_le_81',\n",
    " 'zip_code_truncated_le_82',\n",
    " 'zip_code_truncated_le_83',\n",
    " 'zip_code_truncated_le_84',\n",
    " 'zip_code_truncated_le_85',\n",
    " 'zip_code_truncated_le_86',\n",
    " 'zip_code_truncated_le_87',\n",
    " 'zip_code_truncated_le_88',\n",
    " 'zip_code_truncated_le_89',\n",
    " 'zip_code_truncated_le_90',\n",
    " 'zip_code_truncated_le_91',\n",
    " 'zip_code_truncated_le_92',\n",
    " 'zip_code_truncated_le_93',\n",
    " 'term_encode_0',\n",
    " 'purpose_le_0',\n",
    " 'purpose_le_1',\n",
    " 'purpose_le_2',\n",
    " 'purpose_le_3',\n",
    " 'purpose_le_4',\n",
    " 'purpose_le_5',\n",
    " 'purpose_le_6',\n",
    " 'purpose_le_7',\n",
    " 'purpose_le_8',\n",
    " 'purpose_le_9',\n",
    " 'purpose_le_10',\n",
    " 'purpose_le_11',\n",
    " 'pub_bankrupt_zero_record',\n",
    " 'dti_bin_encode_1_qrt',\n",
    " 'dti_bin_encode_2_qrt',\n",
    " 'dti_bin_encode_3_qrt',\n",
    " 'loan_amnt_bin_encode_1_qrt',\n",
    " 'loan_amnt_bin_encode_2_qrt',\n",
    " 'loan_amnt_bin_encode_3_qrt',\n",
    "'annual_inc_bin_encode_1_qrt',\n",
    " 'annual_inc_bin_encode_2_qrt',\n",
    " 'annual_inc_bin_encode_3_qrt',\n",
    " 'loan_income_ratio_bin_encode_1_qrt',\n",
    " 'loan_income_ratio_bin_encode_2_qrt',\n",
    " 'loan_income_ratio_bin_encode_3_qrt',\n",
    "     'fico_range_low_bin_encode_1_qrt',\n",
    " 'fico_range_low_bin_encode_2_qrt',\n",
    " 'fico_range_low_bin_encode_3_qrt'\n",
    "]"
   ]
  },
  {
   "cell_type": "code",
   "execution_count": 4,
   "metadata": {},
   "outputs": [],
   "source": [
    "#full_concat_df = full_concat_df.drop(referece_dummies_var+removed_dummies_var, axis=1)\n",
    "full_concat_df = full_concat_df[select_vars+['target']]"
   ]
  },
  {
   "cell_type": "markdown",
   "metadata": {},
   "source": [
    "### Logistic Model Prediction and Performance Evaluation "
   ]
  },
  {
   "cell_type": "code",
   "execution_count": 5,
   "metadata": {},
   "outputs": [],
   "source": [
    "from sklearn.datasets import make_classification\n",
    "from sklearn.model_selection import cross_val_score,cross_validate\n",
    "from sklearn.model_selection import RepeatedStratifiedKFold\n",
    "from sklearn import linear_model\n",
    "from sklearn.metrics import confusion_matrix\n",
    "from sklearn.model_selection import train_test_split\n",
    "np.random.seed(4684)\n",
    "\n",
    "#split into train and test to avoid overfitting\n",
    "\n",
    "\n",
    "\n",
    "X_train, X_test, y_train, y_test = train_test_split(full_concat_df.drop(['target'],axis=1), full_concat_df['target'], stratify=full_concat_df['target'], test_size=0.2, random_state=42)\n"
   ]
  },
  {
   "cell_type": "markdown",
   "metadata": {},
   "source": [
    "Logistic regression model with p-val for each feature"
   ]
  },
  {
   "cell_type": "code",
   "execution_count": 6,
   "metadata": {},
   "outputs": [],
   "source": [
    "\n",
    "import scipy.stats as stat\n",
    "\n",
    "class LogisticRegression_with_p_values:\n",
    "    \n",
    "    def __init__(self,*args,**kwargs):\n",
    "        self.model = linear_model.LogisticRegression(*args,**kwargs)\n",
    "\n",
    "    def fit(self,X,y):\n",
    "        self.model.fit(X,y)\n",
    "        denom = (2.0 * (1.0 + np.cosh(self.model.decision_function(X))))\n",
    "        denom = np.tile(denom,(X.shape[1],1)).T\n",
    "        F_ij = np.dot((X / denom).T,X)\n",
    "#         print(f\"rank Fij shape {np.shape(F_ij)}: {np.linalg.matrix_rank(F_ij)}\")\n",
    "        Cramer_Rao = np.linalg.inv(F_ij)\n",
    "        sigma_estimates = np.sqrt(np.diagonal(Cramer_Rao))\n",
    "        z_scores = self.model.coef_[0] / sigma_estimates\n",
    "        p_values = [stat.norm.sf(abs(x)) * 2 for x in z_scores]\n",
    "        self.coef_ = self.model.coef_\n",
    "        self.intercept_ = self.model.intercept_\n",
    "        self.p_values = p_values"
   ]
  },
  {
   "cell_type": "code",
   "execution_count": 7,
   "metadata": {},
   "outputs": [],
   "source": [
    "reg = LogisticRegression_with_p_values(max_iter=10000)\n",
    "reg.fit(X_train, y_train)"
   ]
  },
  {
   "cell_type": "code",
   "execution_count": 8,
   "metadata": {},
   "outputs": [],
   "source": [
    "feature_name = X_train.columns.values\n",
    "summary_table = pd.DataFrame(columns = ['Feature name'], data = feature_name)\n",
    "summary_table['Coefficients'] = np.transpose(reg.coef_)\n",
    "summary_table.index = summary_table.index + 1\n",
    "summary_table.loc[0] = ['Intercept', reg.intercept_[0]]\n",
    "summary_table = summary_table.sort_index()"
   ]
  },
  {
   "cell_type": "code",
   "execution_count": 9,
   "metadata": {},
   "outputs": [],
   "source": [
    "# This is a list.\n",
    "p_values = reg.p_values"
   ]
  },
  {
   "cell_type": "code",
   "execution_count": 10,
   "metadata": {},
   "outputs": [],
   "source": [
    "# Add the intercept for completeness.\n",
    "# We add the value 'NaN' in the beginning of the variable with p-values.\n",
    "p_values = np.append(np.nan, np.array(p_values))"
   ]
  },
  {
   "cell_type": "code",
   "execution_count": 11,
   "metadata": {},
   "outputs": [],
   "source": [
    "# In the 'summary_table' dataframe, we add a new column, called 'p_values', containing the values from the 'p_values' variable.\n",
    "summary_table['p_values'] = p_values\n"
   ]
  },
  {
   "cell_type": "code",
   "execution_count": 46,
   "metadata": {},
   "outputs": [
    {
     "data": {
      "text/html": [
       "<div>\n",
       "<style scoped>\n",
       "    .dataframe tbody tr th:only-of-type {\n",
       "        vertical-align: middle;\n",
       "    }\n",
       "\n",
       "    .dataframe tbody tr th {\n",
       "        vertical-align: top;\n",
       "    }\n",
       "\n",
       "    .dataframe thead th {\n",
       "        text-align: right;\n",
       "    }\n",
       "</style>\n",
       "<table border=\"1\" class=\"dataframe\">\n",
       "  <thead>\n",
       "    <tr style=\"text-align: right;\">\n",
       "      <th></th>\n",
       "      <th>Feature name</th>\n",
       "      <th>Coefficients</th>\n",
       "      <th>p_values</th>\n",
       "    </tr>\n",
       "  </thead>\n",
       "  <tbody>\n",
       "    <tr>\n",
       "      <th>150</th>\n",
       "      <td>loan_amnt_bin_encode_1_qrt</td>\n",
       "      <td>0.054904</td>\n",
       "      <td>0.802777</td>\n",
       "    </tr>\n",
       "    <tr>\n",
       "      <th>151</th>\n",
       "      <td>loan_amnt_bin_encode_2_qrt</td>\n",
       "      <td>-0.164218</td>\n",
       "      <td>0.345741</td>\n",
       "    </tr>\n",
       "    <tr>\n",
       "      <th>152</th>\n",
       "      <td>loan_amnt_bin_encode_3_qrt</td>\n",
       "      <td>-0.235881</td>\n",
       "      <td>0.064308</td>\n",
       "    </tr>\n",
       "  </tbody>\n",
       "</table>\n",
       "</div>"
      ],
      "text/plain": [
       "                   Feature name  Coefficients  p_values\n",
       "150  loan_amnt_bin_encode_1_qrt      0.054904  0.802777\n",
       "151  loan_amnt_bin_encode_2_qrt     -0.164218  0.345741\n",
       "152  loan_amnt_bin_encode_3_qrt     -0.235881  0.064308"
      ]
     },
     "execution_count": 46,
     "metadata": {},
     "output_type": "execute_result"
    }
   ],
   "source": [
    "summary_table[summary_table['Feature name'].isin(['loan_amnt_bin_encode_1_qrt',\n",
    " 'loan_amnt_bin_encode_2_qrt',\n",
    " 'loan_amnt_bin_encode_3_qrt'])]"
   ]
  },
  {
   "cell_type": "code",
   "execution_count": 45,
   "metadata": {},
   "outputs": [
    {
     "data": {
      "text/html": [
       "<div>\n",
       "<style scoped>\n",
       "    .dataframe tbody tr th:only-of-type {\n",
       "        vertical-align: middle;\n",
       "    }\n",
       "\n",
       "    .dataframe tbody tr th {\n",
       "        vertical-align: top;\n",
       "    }\n",
       "\n",
       "    .dataframe thead th {\n",
       "        text-align: right;\n",
       "    }\n",
       "</style>\n",
       "<table border=\"1\" class=\"dataframe\">\n",
       "  <thead>\n",
       "    <tr style=\"text-align: right;\">\n",
       "      <th></th>\n",
       "      <th>Feature name</th>\n",
       "      <th>Coefficients</th>\n",
       "      <th>p_values</th>\n",
       "    </tr>\n",
       "  </thead>\n",
       "  <tbody>\n",
       "    <tr>\n",
       "      <th>8</th>\n",
       "      <td>verification_status_le_0</td>\n",
       "      <td>-0.319783</td>\n",
       "      <td>5.123037e-03</td>\n",
       "    </tr>\n",
       "    <tr>\n",
       "      <th>14</th>\n",
       "      <td>emp_length_impute_num_4</td>\n",
       "      <td>-0.377606</td>\n",
       "      <td>3.520080e-02</td>\n",
       "    </tr>\n",
       "    <tr>\n",
       "      <th>113</th>\n",
       "      <td>zip_code_truncated_le_74</td>\n",
       "      <td>0.738661</td>\n",
       "      <td>4.394387e-02</td>\n",
       "    </tr>\n",
       "    <tr>\n",
       "      <th>133</th>\n",
       "      <td>term_encode_0</td>\n",
       "      <td>-1.092288</td>\n",
       "      <td>2.283372e-29</td>\n",
       "    </tr>\n",
       "    <tr>\n",
       "      <th>153</th>\n",
       "      <td>annual_inc_bin_encode_1_qrt</td>\n",
       "      <td>0.406277</td>\n",
       "      <td>2.736443e-02</td>\n",
       "    </tr>\n",
       "    <tr>\n",
       "      <th>156</th>\n",
       "      <td>loan_income_ratio_bin_encode_1_qrt</td>\n",
       "      <td>-0.455238</td>\n",
       "      <td>2.579204e-02</td>\n",
       "    </tr>\n",
       "    <tr>\n",
       "      <th>159</th>\n",
       "      <td>fico_range_low_bin_encode_1_qrt</td>\n",
       "      <td>0.793055</td>\n",
       "      <td>2.011521e-10</td>\n",
       "    </tr>\n",
       "    <tr>\n",
       "      <th>160</th>\n",
       "      <td>fico_range_low_bin_encode_2_qrt</td>\n",
       "      <td>0.669671</td>\n",
       "      <td>1.093700e-08</td>\n",
       "    </tr>\n",
       "    <tr>\n",
       "      <th>161</th>\n",
       "      <td>fico_range_low_bin_encode_3_qrt</td>\n",
       "      <td>0.475555</td>\n",
       "      <td>8.685036e-05</td>\n",
       "    </tr>\n",
       "  </tbody>\n",
       "</table>\n",
       "</div>"
      ],
      "text/plain": [
       "                           Feature name  Coefficients      p_values\n",
       "8              verification_status_le_0     -0.319783  5.123037e-03\n",
       "14              emp_length_impute_num_4     -0.377606  3.520080e-02\n",
       "113            zip_code_truncated_le_74      0.738661  4.394387e-02\n",
       "133                       term_encode_0     -1.092288  2.283372e-29\n",
       "153         annual_inc_bin_encode_1_qrt      0.406277  2.736443e-02\n",
       "156  loan_income_ratio_bin_encode_1_qrt     -0.455238  2.579204e-02\n",
       "159     fico_range_low_bin_encode_1_qrt      0.793055  2.011521e-10\n",
       "160     fico_range_low_bin_encode_2_qrt      0.669671  1.093700e-08\n",
       "161     fico_range_low_bin_encode_3_qrt      0.475555  8.685036e-05"
      ]
     },
     "execution_count": 45,
     "metadata": {},
     "output_type": "execute_result"
    }
   ],
   "source": [
    "summary_table[(summary_table['p_values']<0.05) & (abs(summary_table['Coefficients'])>0.3)]"
   ]
  },
  {
   "cell_type": "code",
   "execution_count": 30,
   "metadata": {},
   "outputs": [
    {
     "data": {
      "text/html": [
       "<div>\n",
       "<style scoped>\n",
       "    .dataframe tbody tr th:only-of-type {\n",
       "        vertical-align: middle;\n",
       "    }\n",
       "\n",
       "    .dataframe tbody tr th {\n",
       "        vertical-align: top;\n",
       "    }\n",
       "\n",
       "    .dataframe thead th {\n",
       "        text-align: right;\n",
       "    }\n",
       "</style>\n",
       "<table border=\"1\" class=\"dataframe\">\n",
       "  <thead>\n",
       "    <tr style=\"text-align: right;\">\n",
       "      <th></th>\n",
       "      <th>Feature name</th>\n",
       "      <th>Coefficients</th>\n",
       "      <th>p_values</th>\n",
       "    </tr>\n",
       "  </thead>\n",
       "  <tbody>\n",
       "    <tr>\n",
       "      <th>6</th>\n",
       "      <td>home_ownership_le_0</td>\n",
       "      <td>0.257277</td>\n",
       "      <td>5.498044e-03</td>\n",
       "    </tr>\n",
       "    <tr>\n",
       "      <th>8</th>\n",
       "      <td>verification_status_le_0</td>\n",
       "      <td>-0.319783</td>\n",
       "      <td>5.123037e-03</td>\n",
       "    </tr>\n",
       "    <tr>\n",
       "      <th>14</th>\n",
       "      <td>emp_length_impute_num_4</td>\n",
       "      <td>-0.377606</td>\n",
       "      <td>3.520080e-02</td>\n",
       "    </tr>\n",
       "    <tr>\n",
       "      <th>113</th>\n",
       "      <td>zip_code_truncated_le_74</td>\n",
       "      <td>0.738661</td>\n",
       "      <td>4.394387e-02</td>\n",
       "    </tr>\n",
       "    <tr>\n",
       "      <th>133</th>\n",
       "      <td>term_encode_0</td>\n",
       "      <td>-1.092288</td>\n",
       "      <td>2.283372e-29</td>\n",
       "    </tr>\n",
       "    <tr>\n",
       "      <th>153</th>\n",
       "      <td>annual_inc_bin_encode_1_qrt</td>\n",
       "      <td>0.406277</td>\n",
       "      <td>2.736443e-02</td>\n",
       "    </tr>\n",
       "    <tr>\n",
       "      <th>156</th>\n",
       "      <td>loan_income_ratio_bin_encode_1_qrt</td>\n",
       "      <td>-0.455238</td>\n",
       "      <td>2.579204e-02</td>\n",
       "    </tr>\n",
       "    <tr>\n",
       "      <th>159</th>\n",
       "      <td>fico_range_low_bin_encode_1_qrt</td>\n",
       "      <td>0.793055</td>\n",
       "      <td>2.011521e-10</td>\n",
       "    </tr>\n",
       "    <tr>\n",
       "      <th>160</th>\n",
       "      <td>fico_range_low_bin_encode_2_qrt</td>\n",
       "      <td>0.669671</td>\n",
       "      <td>1.093700e-08</td>\n",
       "    </tr>\n",
       "    <tr>\n",
       "      <th>161</th>\n",
       "      <td>fico_range_low_bin_encode_3_qrt</td>\n",
       "      <td>0.475555</td>\n",
       "      <td>8.685036e-05</td>\n",
       "    </tr>\n",
       "  </tbody>\n",
       "</table>\n",
       "</div>"
      ],
      "text/plain": [
       "                           Feature name  Coefficients      p_values\n",
       "6                   home_ownership_le_0      0.257277  5.498044e-03\n",
       "8              verification_status_le_0     -0.319783  5.123037e-03\n",
       "14              emp_length_impute_num_4     -0.377606  3.520080e-02\n",
       "113            zip_code_truncated_le_74      0.738661  4.394387e-02\n",
       "133                       term_encode_0     -1.092288  2.283372e-29\n",
       "153         annual_inc_bin_encode_1_qrt      0.406277  2.736443e-02\n",
       "156  loan_income_ratio_bin_encode_1_qrt     -0.455238  2.579204e-02\n",
       "159     fico_range_low_bin_encode_1_qrt      0.793055  2.011521e-10\n",
       "160     fico_range_low_bin_encode_2_qrt      0.669671  1.093700e-08\n",
       "161     fico_range_low_bin_encode_3_qrt      0.475555  8.685036e-05"
      ]
     },
     "execution_count": 30,
     "metadata": {},
     "output_type": "execute_result"
    }
   ],
   "source": [
    "summary_table[summary_table['p_values']<0.05]"
   ]
  },
  {
   "cell_type": "markdown",
   "metadata": {},
   "source": [
    "Confusion matrix"
   ]
  },
  {
   "cell_type": "code",
   "execution_count": 13,
   "metadata": {},
   "outputs": [
    {
     "data": {
      "text/html": [
       "<div>\n",
       "<style scoped>\n",
       "    .dataframe tbody tr th:only-of-type {\n",
       "        vertical-align: middle;\n",
       "    }\n",
       "\n",
       "    .dataframe tbody tr th {\n",
       "        vertical-align: top;\n",
       "    }\n",
       "\n",
       "    .dataframe thead th {\n",
       "        text-align: right;\n",
       "    }\n",
       "</style>\n",
       "<table border=\"1\" class=\"dataframe\">\n",
       "  <thead>\n",
       "    <tr style=\"text-align: right;\">\n",
       "      <th></th>\n",
       "      <th>Predicted Not charge-off</th>\n",
       "      <th>Predicted Charge-off</th>\n",
       "    </tr>\n",
       "  </thead>\n",
       "  <tbody>\n",
       "    <tr>\n",
       "      <th>Not Chargeoff</th>\n",
       "      <td>1093</td>\n",
       "      <td>6</td>\n",
       "    </tr>\n",
       "    <tr>\n",
       "      <th>Charge-off</th>\n",
       "      <td>217</td>\n",
       "      <td>2</td>\n",
       "    </tr>\n",
       "  </tbody>\n",
       "</table>\n",
       "</div>"
      ],
      "text/plain": [
       "               Predicted Not charge-off  Predicted Charge-off\n",
       "Not Chargeoff                      1093                     6\n",
       "Charge-off                          217                     2"
      ]
     },
     "execution_count": 13,
     "metadata": {},
     "output_type": "execute_result"
    }
   ],
   "source": [
    "y_predict = reg.model.predict(X_test)\n",
    "confusion_matrix(y_test, y_predict)\n",
    "pd_confusion_matrix = pd.DataFrame(data = confusion_matrix(y_test, y_predict), columns=['Predicted Not charge-off', 'Predicted Charge-off'], index=['Not Chargeoff', 'Charge-off'])\n",
    "pd_confusion_matrix"
   ]
  },
  {
   "cell_type": "markdown",
   "metadata": {},
   "source": [
    "#### Model performance evaluation"
   ]
  },
  {
   "cell_type": "markdown",
   "metadata": {},
   "source": [
    "roc_auc score "
   ]
  },
  {
   "cell_type": "code",
   "execution_count": 14,
   "metadata": {},
   "outputs": [
    {
     "name": "stdout",
     "output_type": "stream",
     "text": [
      "No Skill: ROC AUC=0.500\n",
      "Logistic: ROC AUC=0.664\n"
     ]
    },
    {
     "data": {
      "image/png": "[encoded data removed]",
      "text/plain": [
       "<Figure size 432x288 with 1 Axes>"
      ]
     },
     "metadata": {
      "needs_background": "light"
     },
     "output_type": "display_data"
    }
   ],
   "source": [
    "from sklearn.metrics import roc_auc_score\n",
    "from sklearn.metrics import roc_curve\n",
    "import matplotlib.pylab as plt\n",
    "\n",
    "# generate a no skill prediction (majority class)\n",
    "ns_probs = [0 for _ in range(len(y_test))]\n",
    "# fit a model\n",
    "# predict probabilities\n",
    "lr_predict_prob = reg.model.predict_proba(X_test)\n",
    "# keep probabilities for the positive outcome only\n",
    "lr_probs = lr_predict_prob[:, 1]\n",
    "# calculate scores\n",
    "ns_auc = roc_auc_score(y_test, ns_probs)\n",
    "lr_auc = roc_auc_score(y_test, lr_probs)\n",
    "# summarize scores\n",
    "print('No Skill: ROC AUC=%.3f' % (ns_auc))\n",
    "print('Logistic: ROC AUC=%.3f' % (lr_auc))\n",
    "# calculate roc curves\n",
    "ns_fpr, ns_tpr, _ = roc_curve(y_test, ns_probs)\n",
    "lr_fpr, lr_tpr, _ = roc_curve(y_test, lr_probs)\n",
    "# plot the roc curve for the mode\n",
    "plt.plot(ns_fpr, ns_tpr, linestyle='--', label='No Skill')\n",
    "plt.plot(lr_fpr, lr_tpr, marker='.', label='Logit Regression')\n",
    "# axis labels\n",
    "plt.xlabel('False Positive Rate')\n",
    "plt.ylabel('True Positive Rate')\n",
    "# show the legend\n",
    "plt.legend()\n",
    "# show the plot\n",
    "plt.show()"
   ]
  },
  {
   "cell_type": "markdown",
   "metadata": {},
   "source": [
    "gini coefficient and kolmogorov-smirnov are common used in credit-risk industry"
   ]
  },
  {
   "cell_type": "code",
   "execution_count": 15,
   "metadata": {},
   "outputs": [],
   "source": [
    "y_hat_test_proba =reg.model.predict_proba(X_test)"
   ]
  },
  {
   "cell_type": "code",
   "execution_count": 16,
   "metadata": {},
   "outputs": [],
   "source": [
    "y_hat_test_proba_char_off = y_hat_test_proba[:,1]"
   ]
  },
  {
   "cell_type": "code",
   "execution_count": 17,
   "metadata": {},
   "outputs": [],
   "source": [
    "df_test_y = pd.DataFrame(y_test)\n",
    "df_test_y.reset_index(drop = True, inplace = True)"
   ]
  },
  {
   "cell_type": "code",
   "execution_count": 18,
   "metadata": {},
   "outputs": [],
   "source": [
    "df_t_test_prob = pd.DataFrame(y_hat_test_proba_char_off)"
   ]
  },
  {
   "cell_type": "code",
   "execution_count": 19,
   "metadata": {},
   "outputs": [],
   "source": [
    "df_actual_predicted_probs = pd.concat([df_test_y, df_t_test_prob], axis = 1,ignore_index=False)\n"
   ]
  },
  {
   "cell_type": "code",
   "execution_count": 20,
   "metadata": {},
   "outputs": [],
   "source": [
    "df_actual_predicted_probs.index = X_test.index"
   ]
  },
  {
   "cell_type": "code",
   "execution_count": 21,
   "metadata": {},
   "outputs": [],
   "source": [
    "\n",
    "df_actual_predicted_probs.columns = ['loan_data_targets_test', 'y_hat_test_proba']"
   ]
  },
  {
   "cell_type": "code",
   "execution_count": 22,
   "metadata": {},
   "outputs": [],
   "source": [
    "df_probs_threashold = df_actual_predicted_probs.sort_values('y_hat_test_proba',ascending=False)\n"
   ]
  },
  {
   "cell_type": "code",
   "execution_count": 23,
   "metadata": {},
   "outputs": [],
   "source": [
    "df_probs_threashold = df_probs_threashold.reset_index(drop=True)"
   ]
  },
  {
   "cell_type": "code",
   "execution_count": 24,
   "metadata": {},
   "outputs": [],
   "source": [
    "# check the prob_threashold of charge-off\n",
    "\n",
    "df_probs_threashold['Cumulative N Population'] = df_probs_threashold.index + 1\n",
    "# We calculate the cumulative number of all observations.\n",
    "# We use the new index for that. Since indexing in ython starts from 0, we add 1 to each index.\n",
    "df_probs_threashold['Cumulative N Charge-off'] = df_probs_threashold['loan_data_targets_test'].cumsum()\n",
    "# We calculate cumulative number of 'good', which is the cumulative sum of the column with actual observations.\n",
    "df_probs_threashold['Cumulative N Good'] = df_probs_threashold['Cumulative N Population'] - df_probs_threashold['loan_data_targets_test'].cumsum()\n",
    "\n"
   ]
  },
  {
   "cell_type": "code",
   "execution_count": 25,
   "metadata": {},
   "outputs": [],
   "source": [
    "df_probs_threashold['Cumulative Perc Population'] = df_probs_threashold['Cumulative N Population'] / (df_probs_threashold.shape[0])\n",
    "# We calculate the cumulative percentage of all observations.\n",
    "df_probs_threashold['Cumulative Perc Charge-off'] = df_probs_threashold['Cumulative N Charge-off'] / df_probs_threashold['loan_data_targets_test'].sum()\n",
    "# We calculate cumulative percentage of 'good'.\n",
    "df_probs_threashold['Cumulative Perc Good'] = df_probs_threashold['Cumulative N Good'] / (df_probs_threashold.shape[0] - df_probs_threashold['loan_data_targets_test'].sum())\n",
    "# We calculate the cumulative percentage of 'bad'."
   ]
  },
  {
   "cell_type": "code",
   "execution_count": 26,
   "metadata": {},
   "outputs": [
    {
     "data": {
      "text/plain": [
       "Text(0.5, 1.0, 'Gini')"
      ]
     },
     "execution_count": 26,
     "metadata": {},
     "output_type": "execute_result"
    },
    {
     "data": {
      "image/png": "[encoded data removed]",
      "text/plain": [
       "<Figure size 432x288 with 1 Axes>"
      ]
     },
     "metadata": {
      "needs_background": "light"
     },
     "output_type": "display_data"
    }
   ],
   "source": [
    "# Plot Gini\n",
    "plt.plot(df_probs_threashold['Cumulative Perc Population'], df_probs_threashold['Cumulative Perc Charge-off'])\n",
    "# We plot the cumulative percentage of all along the x-axis and the cumulative percentage 'good' along the y-axis,\n",
    "# thus plotting the Gini curve.\n",
    "plt.plot(df_probs_threashold['Cumulative Perc Population'], df_probs_threashold['Cumulative Perc Population'], linestyle = '--', color = 'k')\n",
    "# We plot a seconary diagonal line, with dashed line style and black color.\n",
    "plt.xlabel('Cumulative % Population')\n",
    "# We name the x-axis \"Cumulative % Population\".\n",
    "plt.ylabel('Cumulative % Charge-off')\n",
    "# We name the y-axis \"Cumulative % Bad\".\n",
    "plt.title('Gini')\n",
    "# We name the graph \"Gini\"."
   ]
  },
  {
   "cell_type": "code",
   "execution_count": 27,
   "metadata": {},
   "outputs": [
    {
     "data": {
      "text/plain": [
       "0.32857599893635125"
      ]
     },
     "execution_count": 27,
     "metadata": {},
     "output_type": "execute_result"
    }
   ],
   "source": [
    "gini_coef = 2*lr_auc-1\n",
    "gini_coef"
   ]
  },
  {
   "cell_type": "code",
   "execution_count": 28,
   "metadata": {},
   "outputs": [
    {
     "data": {
      "text/plain": [
       "Text(0.5, 1.0, 'Kolmogorov-Smirnov')"
      ]
     },
     "execution_count": 28,
     "metadata": {},
     "output_type": "execute_result"
    },
    {
     "data": {
      "image/png": "[encoded data removed]",
      "text/plain": [
       "<Figure size 432x288 with 1 Axes>"
      ]
     },
     "metadata": {
      "needs_background": "light"
     },
     "output_type": "display_data"
    }
   ],
   "source": [
    "# Plot KS\n",
    "plt.plot(1-df_probs_threashold['y_hat_test_proba'], df_probs_threashold['Cumulative Perc Charge-off'], color = 'r')\n",
    "# We plot the predicted (estimated) probabilities along the x-axis and the cumulative percentage 'charge-off' along the y-axis,\n",
    "# colored in red.\n",
    "plt.plot(1-df_probs_threashold['y_hat_test_proba'], df_probs_threashold['Cumulative Perc Good'], color = 'b')\n",
    "# We plot the predicted (estimated) probabilities along the x-axis and the cumulative percentage 'good' along the y-axis,\n",
    "# colored in red.\n",
    "plt.xlabel('Estimated Probability for being Good')\n",
    "# We name the x-axis \"Estimated Probability for being Good\".\n",
    "plt.ylabel('Cumulative %')\n",
    "# We name the y-axis \"Cumulative %\".\n",
    "plt.title('Kolmogorov-Smirnov')\n",
    "# We name the graph \"Kolmogorov-Smirnov\"."
   ]
  },
  {
   "cell_type": "code",
   "execution_count": 29,
   "metadata": {},
   "outputs": [
    {
     "data": {
      "text/plain": [
       "0.28000132956070484"
      ]
     },
     "execution_count": 29,
     "metadata": {},
     "output_type": "execute_result"
    }
   ],
   "source": [
    "KS = max(df_probs_threashold['Cumulative Perc Charge-off'] - df_probs_threashold['Cumulative Perc Good'])\n",
    "KS"
   ]
  },
  {
   "cell_type": "markdown",
   "metadata": {},
   "source": [
    "### The Linear Regression Classifier Performance Summeries\n",
    "- LR model has roc_ruc 0.664\n",
    "- The Gini coefficient is 0.329\n",
    "- The max diff in Kolmogrov-Smirnov curve is 0.280"
   ]
  }
 ],
 "metadata": {
  "environment": {
   "name": "tf2-gpu.2-1.m46",
   "type": "gcloud",
   "uri": "gcr.io/deeplearning-platform-release/tf2-gpu.2-1:m46"
  },
  "kernelspec": {
   "display_name": "Python 3",
   "language": "python",
   "name": "python3"
  },
  "language_info": {
   "codemirror_mode": {
    "name": "ipython",
    "version": 3
   },
   "file_extension": ".py",
   "mimetype": "text/x-python",
   "name": "python",
   "nbconvert_exporter": "python",
   "pygments_lexer": "ipython3",
   "version": "3.7.6"
  }
 },
 "nbformat": 4,
 "nbformat_minor": 4
}
